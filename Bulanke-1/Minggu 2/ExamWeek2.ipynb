{
 "cells": [
  {
   "cell_type": "code",
   "execution_count": 1,
   "id": "20df9bab-6c5e-47a7-a49c-bf1c064fdd47",
   "metadata": {},
   "outputs": [
    {
     "name": "stdout",
     "output_type": "stream",
     "text": [
      "Defaulting to user installation because normal site-packages is not writeable\n",
      "Requirement already satisfied: mysql-connector-python in c:\\programdata\\anaconda3\\lib\\site-packages (9.0.0)\n",
      "Note: you may need to restart the kernel to use updated packages.\n"
     ]
    }
   ],
   "source": [
    "pip install mysql-connector-python"
   ]
  },
  {
   "cell_type": "code",
   "execution_count": null,
   "id": "0b5421d5-558d-43ea-b6e1-61f68b518a38",
   "metadata": {},
   "outputs": [
    {
     "name": "stdout",
     "output_type": "stream",
     "text": [
      "\n",
      "Menu:\n",
      "1. Tambah data pasien\n",
      "2. Update data pasien\n",
      "3. Hapus data pasien\n",
      "4. Tampilkan data pasien\n",
      "5. Keluar\n"
     ]
    },
    {
     "name": "stdin",
     "output_type": "stream",
     "text": [
      "Masukkan pilihan (1/2/3/4/5):  1\n",
      "Masukkan nama pasien:  Rizi Aryanto\n",
      "Masukkan tanggal lahir (YYYY-MM-DD):  2002-09-12\n",
      "Masukkan jenis kelamin (L/P):  L\n",
      "Masukkan alamat:  Purwakarta\n"
     ]
    },
    {
     "name": "stdout",
     "output_type": "stream",
     "text": [
      "Data pasien Rizi Aryanto berhasil ditambahkan.\n",
      "Data Pasien:\n",
      "(1, 'Budi Santoso', datetime.date(1985, 4, 12), 'L', 'Jl. Merdeka No. 20')\n",
      "(3, 'Rizi Aryanto', datetime.date(2002, 9, 12), 'L', 'Purwakarta')\n",
      "\n",
      "Menu:\n",
      "1. Tambah data pasien\n",
      "2. Update data pasien\n",
      "3. Hapus data pasien\n",
      "4. Tampilkan data pasien\n",
      "5. Keluar\n"
     ]
    },
    {
     "name": "stdin",
     "output_type": "stream",
     "text": [
      "Masukkan pilihan (1/2/3/4/5):  2\n",
      "Masukkan ID pasien yang ingin di-update:  1\n"
     ]
    },
    {
     "name": "stdout",
     "output_type": "stream",
     "text": [
      "Pilih data yang ingin di-update:\n",
      "1. Nama\n",
      "2. Tanggal Lahir\n",
      "3. Jenis Kelamin\n",
      "4. Alamat\n"
     ]
    },
    {
     "name": "stdin",
     "output_type": "stream",
     "text": [
      "Masukkan pilihan (1/2/3/4):  4\n",
      "Masukkan alamat baru:  Jakarta\n"
     ]
    },
    {
     "name": "stdout",
     "output_type": "stream",
     "text": [
      "Data pasien berhasil di-update.\n",
      "Data Pasien:\n",
      "(1, 'Budi Santoso', datetime.date(1985, 4, 12), 'L', 'Jakarta')\n",
      "(3, 'Rizi Aryanto', datetime.date(2002, 9, 12), 'L', 'Purwakarta')\n",
      "\n",
      "Menu:\n",
      "1. Tambah data pasien\n",
      "2. Update data pasien\n",
      "3. Hapus data pasien\n",
      "4. Tampilkan data pasien\n",
      "5. Keluar\n"
     ]
    },
    {
     "name": "stdin",
     "output_type": "stream",
     "text": [
      "Masukkan pilihan (1/2/3/4/5):  3\n",
      "Masukkan ID pasien yang ingin dihapus:  3\n"
     ]
    },
    {
     "name": "stdout",
     "output_type": "stream",
     "text": [
      "Data pasien berhasil dihapus.\n",
      "Data Pasien:\n",
      "(1, 'Budi Santoso', datetime.date(1985, 4, 12), 'L', 'Jakarta')\n",
      "\n",
      "Menu:\n",
      "1. Tambah data pasien\n",
      "2. Update data pasien\n",
      "3. Hapus data pasien\n",
      "4. Tampilkan data pasien\n",
      "5. Keluar\n"
     ]
    },
    {
     "name": "stdin",
     "output_type": "stream",
     "text": [
      "Masukkan pilihan (1/2/3/4/5):  4\n"
     ]
    },
    {
     "name": "stdout",
     "output_type": "stream",
     "text": [
      "Data Pasien:\n",
      "(1, 'Budi Santoso', datetime.date(1985, 4, 12), 'L', 'Jakarta')\n",
      "\n",
      "Menu:\n",
      "1. Tambah data pasien\n",
      "2. Update data pasien\n",
      "3. Hapus data pasien\n",
      "4. Tampilkan data pasien\n",
      "5. Keluar\n"
     ]
    }
   ],
   "source": [
    "import mysql.connector\n",
    "\n",
    "# Fungsi untuk membuat koneksi ke database\n",
    "def connect_db():\n",
    "    return mysql.connector.connect(\n",
    "        host=\"localhost\",  \n",
    "        user=\"root\",       \n",
    "        password=\"\",       \n",
    "        database=\"rumah_sakit\"\n",
    "    )\n",
    "\n",
    "# Fungsi untuk menampilkan semua data pasien\n",
    "def show_data():\n",
    "    conn = connect_db()\n",
    "    cursor = conn.cursor()\n",
    "    cursor.execute(\"SELECT * FROM pasien\")\n",
    "    rows = cursor.fetchall()\n",
    "    \n",
    "    if rows:\n",
    "        print(\"Data Pasien:\")\n",
    "        for row in rows:\n",
    "            print(row)\n",
    "    else:\n",
    "        print(\"Tidak ada data pasien.\")\n",
    "    \n",
    "    cursor.close()\n",
    "    conn.close()\n",
    "\n",
    "# Fungsi untuk memasukkan data pasien baru\n",
    "def insert_data():\n",
    "    nama = input(\"Masukkan nama pasien: \")\n",
    "    tanggal_lahir = input(\"Masukkan tanggal lahir (YYYY-MM-DD): \")\n",
    "    jenis_kelamin = input(\"Masukkan jenis kelamin (L/P): \")\n",
    "    alamat = input(\"Masukkan alamat: \")\n",
    "\n",
    "    conn = connect_db()\n",
    "    cursor = conn.cursor()\n",
    "    \n",
    "    query = \"INSERT INTO pasien (nama, tanggal_lahir, jenis_kelamin, alamat) VALUES (%s, %s, %s, %s)\"\n",
    "    values = (nama, tanggal_lahir, jenis_kelamin, alamat)\n",
    "    \n",
    "    cursor.execute(query, values)\n",
    "    conn.commit()\n",
    "    \n",
    "    print(f\"Data pasien {nama} berhasil ditambahkan.\")\n",
    "    \n",
    "    cursor.close()\n",
    "    conn.close()\n",
    "    show_data()\n",
    "\n",
    "# Fungsi untuk memperbarui data pasien berdasarkan id_pasien\n",
    "def update_data():\n",
    "    id_pasien = input(\"Masukkan ID pasien yang ingin di-update: \")\n",
    "    print(\"Pilih data yang ingin di-update:\")\n",
    "    print(\"1. Nama\")\n",
    "    print(\"2. Tanggal Lahir\")\n",
    "    print(\"3. Jenis Kelamin\")\n",
    "    print(\"4. Alamat\")\n",
    "    \n",
    "    pilihan = input(\"Masukkan pilihan (1/2/3/4): \")\n",
    "    conn = connect_db()\n",
    "    cursor = conn.cursor()\n",
    "    \n",
    "    if pilihan == \"1\":\n",
    "        new_value = input(\"Masukkan nama baru: \")\n",
    "        query = \"UPDATE pasien SET nama = %s WHERE id_pasien = %s\"\n",
    "    elif pilihan == \"2\":\n",
    "        new_value = input(\"Masukkan tanggal lahir baru (YYYY-MM-DD): \")\n",
    "        query = \"UPDATE pasien SET tanggal_lahir = %s WHERE id_pasien = %s\"\n",
    "    elif pilihan == \"3\":\n",
    "        new_value = input(\"Masukkan jenis kelamin baru (L/P): \")\n",
    "        query = \"UPDATE pasien SET jenis_kelamin = %s WHERE id_pasien = %s\"\n",
    "    elif pilihan == \"4\":\n",
    "        new_value = input(\"Masukkan alamat baru: \")\n",
    "        query = \"UPDATE pasien SET alamat = %s WHERE id_pasien = %s\"\n",
    "    else:\n",
    "        print(\"Pilihan tidak valid.\")\n",
    "        return\n",
    "    \n",
    "    values = (new_value, id_pasien)\n",
    "    cursor.execute(query, values)\n",
    "    conn.commit()\n",
    "    \n",
    "    print(\"Data pasien berhasil di-update.\")\n",
    "    \n",
    "    cursor.close()\n",
    "    conn.close()\n",
    "    show_data()\n",
    "\n",
    "# Fungsi untuk menghapus data pasien berdasarkan id_pasien\n",
    "def delete_data():\n",
    "    id_pasien = input(\"Masukkan ID pasien yang ingin dihapus: \")\n",
    "\n",
    "    conn = connect_db()\n",
    "    cursor = conn.cursor()\n",
    "    \n",
    "    query = \"DELETE FROM pasien WHERE id_pasien = %s\"\n",
    "    values = (id_pasien,)\n",
    "    \n",
    "    cursor.execute(query, values)\n",
    "    conn.commit()\n",
    "    \n",
    "    print(\"Data pasien berhasil dihapus.\")\n",
    "    \n",
    "    cursor.close()\n",
    "    conn.close()\n",
    "    show_data()\n",
    "\n",
    "# Menu utama untuk menjalankan program\n",
    "def main():\n",
    "    while True:\n",
    "        print(\"\\nMenu:\")\n",
    "        print(\"1. Tambah data pasien\")\n",
    "        print(\"2. Update data pasien\")\n",
    "        print(\"3. Hapus data pasien\")\n",
    "        print(\"4. Tampilkan data pasien\")\n",
    "        print(\"5. Keluar\")\n",
    "        \n",
    "        pilihan = input(\"Masukkan pilihan (1/2/3/4/5): \")\n",
    "        \n",
    "        if pilihan == \"1\":\n",
    "            insert_data()\n",
    "        elif pilihan == \"2\":\n",
    "            update_data()\n",
    "        elif pilihan == \"3\":\n",
    "            delete_data()\n",
    "        elif pilihan == \"4\":\n",
    "            show_data()\n",
    "        elif pilihan == \"5\":\n",
    "            print(\"Keluar dari program.\")\n",
    "            break\n",
    "        else:\n",
    "            print(\"Pilihan tidak valid.\")\n",
    "\n",
    "# Jalankan program\n",
    "if __name__ == \"__main__\":\n",
    "    main()"
   ]
  },
  {
   "cell_type": "code",
   "execution_count": null,
   "id": "b2e8df62-da47-48cd-9b54-bbe3fac7c8ae",
   "metadata": {},
   "outputs": [],
   "source": []
  }
 ],
 "metadata": {
  "kernelspec": {
   "display_name": "Python 3 (ipykernel)",
   "language": "python",
   "name": "python3"
  },
  "language_info": {
   "codemirror_mode": {
    "name": "ipython",
    "version": 3
   },
   "file_extension": ".py",
   "mimetype": "text/x-python",
   "name": "python",
   "nbconvert_exporter": "python",
   "pygments_lexer": "ipython3",
   "version": "3.12.4"
  }
 },
 "nbformat": 4,
 "nbformat_minor": 5
}
