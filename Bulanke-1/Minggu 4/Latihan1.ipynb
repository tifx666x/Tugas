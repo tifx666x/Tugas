{
 "cells": [
  {
   "cell_type": "code",
   "execution_count": 3,
   "id": "ffd29ce7-ae84-431e-adce-36db55a780c5",
   "metadata": {},
   "outputs": [
    {
     "ename": "ImportError",
     "evalue": "cannot import name '_is_polars_df_or_series' from 'sklearn.utils.validation' (C:\\ProgramData\\anaconda3\\Lib\\site-packages\\sklearn\\utils\\validation.py)",
     "output_type": "error",
     "traceback": [
      "\u001b[1;31m---------------------------------------------------------------------------\u001b[0m",
      "\u001b[1;31mImportError\u001b[0m                               Traceback (most recent call last)",
      "Cell \u001b[1;32mIn[3], line 3\u001b[0m\n\u001b[0;32m      1\u001b[0m \u001b[38;5;28;01mfrom\u001b[39;00m \u001b[38;5;21;01mnumpy\u001b[39;00m \u001b[38;5;28;01mimport\u001b[39;00m mean\n\u001b[0;32m      2\u001b[0m \u001b[38;5;28;01mfrom\u001b[39;00m \u001b[38;5;21;01mnumpy\u001b[39;00m \u001b[38;5;28;01mimport\u001b[39;00m std\n\u001b[1;32m----> 3\u001b[0m \u001b[38;5;28;01mfrom\u001b[39;00m \u001b[38;5;21;01msklearn\u001b[39;00m\u001b[38;5;21;01m.\u001b[39;00m\u001b[38;5;21;01mdatasets\u001b[39;00m \u001b[38;5;28;01mimport\u001b[39;00m make_classification\n\u001b[0;32m      4\u001b[0m \u001b[38;5;28;01mfrom\u001b[39;00m \u001b[38;5;21;01msklearn\u001b[39;00m\u001b[38;5;21;01m.\u001b[39;00m\u001b[38;5;21;01mmodel_selection\u001b[39;00m \u001b[38;5;28;01mimport\u001b[39;00m cross_val_score\n\u001b[0;32m      5\u001b[0m \u001b[38;5;28;01mfrom\u001b[39;00m \u001b[38;5;21;01msklearn\u001b[39;00m\u001b[38;5;21;01m.\u001b[39;00m\u001b[38;5;21;01mmodel_selection\u001b[39;00m \u001b[38;5;28;01mimport\u001b[39;00m RepeatedStratifiedKFold\n",
      "File \u001b[1;32m~\\AppData\\Roaming\\Python\\Python312\\site-packages\\sklearn\\__init__.py:84\u001b[0m\n\u001b[0;32m     70\u001b[0m     \u001b[38;5;66;03m# We are not importing the rest of scikit-learn during the build\u001b[39;00m\n\u001b[0;32m     71\u001b[0m     \u001b[38;5;66;03m# process, as it may not be compiled yet\u001b[39;00m\n\u001b[0;32m     72\u001b[0m \u001b[38;5;28;01melse\u001b[39;00m:\n\u001b[1;32m   (...)\u001b[0m\n\u001b[0;32m     78\u001b[0m     \u001b[38;5;66;03m# later is linked to the OpenMP runtime to make it possible to introspect\u001b[39;00m\n\u001b[0;32m     79\u001b[0m     \u001b[38;5;66;03m# it and importing it first would fail if the OpenMP dll cannot be found.\u001b[39;00m\n\u001b[0;32m     80\u001b[0m     \u001b[38;5;28;01mfrom\u001b[39;00m \u001b[38;5;21;01m.\u001b[39;00m \u001b[38;5;28;01mimport\u001b[39;00m (\n\u001b[0;32m     81\u001b[0m         __check_build,  \u001b[38;5;66;03m# noqa: F401\u001b[39;00m\n\u001b[0;32m     82\u001b[0m         _distributor_init,  \u001b[38;5;66;03m# noqa: F401\u001b[39;00m\n\u001b[0;32m     83\u001b[0m     )\n\u001b[1;32m---> 84\u001b[0m     \u001b[38;5;28;01mfrom\u001b[39;00m \u001b[38;5;21;01m.\u001b[39;00m\u001b[38;5;21;01mbase\u001b[39;00m \u001b[38;5;28;01mimport\u001b[39;00m clone\n\u001b[0;32m     85\u001b[0m     \u001b[38;5;28;01mfrom\u001b[39;00m \u001b[38;5;21;01m.\u001b[39;00m\u001b[38;5;21;01mutils\u001b[39;00m\u001b[38;5;21;01m.\u001b[39;00m\u001b[38;5;21;01m_show_versions\u001b[39;00m \u001b[38;5;28;01mimport\u001b[39;00m show_versions\n\u001b[0;32m     87\u001b[0m     __all__ \u001b[38;5;241m=\u001b[39m [\n\u001b[0;32m     88\u001b[0m         \u001b[38;5;124m\"\u001b[39m\u001b[38;5;124mcalibration\u001b[39m\u001b[38;5;124m\"\u001b[39m,\n\u001b[0;32m     89\u001b[0m         \u001b[38;5;124m\"\u001b[39m\u001b[38;5;124mcluster\u001b[39m\u001b[38;5;124m\"\u001b[39m,\n\u001b[1;32m   (...)\u001b[0m\n\u001b[0;32m    130\u001b[0m         \u001b[38;5;124m\"\u001b[39m\u001b[38;5;124mshow_versions\u001b[39m\u001b[38;5;124m\"\u001b[39m,\n\u001b[0;32m    131\u001b[0m     ]\n",
      "File \u001b[1;32m~\\AppData\\Roaming\\Python\\Python312\\site-packages\\sklearn\\base.py:22\u001b[0m\n\u001b[0;32m     20\u001b[0m \u001b[38;5;28;01mfrom\u001b[39;00m \u001b[38;5;21;01m.\u001b[39;00m\u001b[38;5;21;01mutils\u001b[39;00m\u001b[38;5;21;01m.\u001b[39;00m\u001b[38;5;21;01m_metadata_requests\u001b[39;00m \u001b[38;5;28;01mimport\u001b[39;00m _MetadataRequester, _routing_enabled\n\u001b[0;32m     21\u001b[0m \u001b[38;5;28;01mfrom\u001b[39;00m \u001b[38;5;21;01m.\u001b[39;00m\u001b[38;5;21;01mutils\u001b[39;00m\u001b[38;5;21;01m.\u001b[39;00m\u001b[38;5;21;01m_param_validation\u001b[39;00m \u001b[38;5;28;01mimport\u001b[39;00m validate_parameter_constraints\n\u001b[1;32m---> 22\u001b[0m \u001b[38;5;28;01mfrom\u001b[39;00m \u001b[38;5;21;01m.\u001b[39;00m\u001b[38;5;21;01mutils\u001b[39;00m\u001b[38;5;21;01m.\u001b[39;00m\u001b[38;5;21;01m_set_output\u001b[39;00m \u001b[38;5;28;01mimport\u001b[39;00m _SetOutputMixin\n\u001b[0;32m     23\u001b[0m \u001b[38;5;28;01mfrom\u001b[39;00m \u001b[38;5;21;01m.\u001b[39;00m\u001b[38;5;21;01mutils\u001b[39;00m\u001b[38;5;21;01m.\u001b[39;00m\u001b[38;5;21;01m_tags\u001b[39;00m \u001b[38;5;28;01mimport\u001b[39;00m (\n\u001b[0;32m     24\u001b[0m     _DEFAULT_TAGS,\n\u001b[0;32m     25\u001b[0m )\n\u001b[0;32m     26\u001b[0m \u001b[38;5;28;01mfrom\u001b[39;00m \u001b[38;5;21;01m.\u001b[39;00m\u001b[38;5;21;01mutils\u001b[39;00m\u001b[38;5;21;01m.\u001b[39;00m\u001b[38;5;21;01mfixes\u001b[39;00m \u001b[38;5;28;01mimport\u001b[39;00m _IS_32BIT\n",
      "File \u001b[1;32m~\\AppData\\Roaming\\Python\\Python312\\site-packages\\sklearn\\utils\\__init__.py:19\u001b[0m\n\u001b[0;32m     12\u001b[0m \u001b[38;5;28;01mfrom\u001b[39;00m \u001b[38;5;21;01m.\u001b[39;00m\u001b[38;5;21;01m_estimator_html_repr\u001b[39;00m \u001b[38;5;28;01mimport\u001b[39;00m estimator_html_repr\n\u001b[0;32m     14\u001b[0m \u001b[38;5;66;03m# Make _safe_indexing importable from here for backward compat as this particular\u001b[39;00m\n\u001b[0;32m     15\u001b[0m \u001b[38;5;66;03m# helper is considered semi-private and typically very useful for third-party\u001b[39;00m\n\u001b[0;32m     16\u001b[0m \u001b[38;5;66;03m# libraries that want to comply with scikit-learn's estimator API. In particular,\u001b[39;00m\n\u001b[0;32m     17\u001b[0m \u001b[38;5;66;03m# _safe_indexing was included in our public API documentation despite the leading\u001b[39;00m\n\u001b[0;32m     18\u001b[0m \u001b[38;5;66;03m# `_` in its name.\u001b[39;00m\n\u001b[1;32m---> 19\u001b[0m \u001b[38;5;28;01mfrom\u001b[39;00m \u001b[38;5;21;01m.\u001b[39;00m\u001b[38;5;21;01m_indexing\u001b[39;00m \u001b[38;5;28;01mimport\u001b[39;00m (\n\u001b[0;32m     20\u001b[0m     _safe_indexing,  \u001b[38;5;66;03m# noqa\u001b[39;00m\n\u001b[0;32m     21\u001b[0m     resample,\n\u001b[0;32m     22\u001b[0m     shuffle,\n\u001b[0;32m     23\u001b[0m )\n\u001b[0;32m     24\u001b[0m \u001b[38;5;28;01mfrom\u001b[39;00m \u001b[38;5;21;01m.\u001b[39;00m\u001b[38;5;21;01m_mask\u001b[39;00m \u001b[38;5;28;01mimport\u001b[39;00m safe_mask\n\u001b[0;32m     25\u001b[0m \u001b[38;5;28;01mfrom\u001b[39;00m \u001b[38;5;21;01m.\u001b[39;00m\u001b[38;5;21;01mclass_weight\u001b[39;00m \u001b[38;5;28;01mimport\u001b[39;00m compute_class_weight, compute_sample_weight\n",
      "File \u001b[1;32m~\\AppData\\Roaming\\Python\\Python312\\site-packages\\sklearn\\utils\\_indexing.py:13\u001b[0m\n\u001b[0;32m     11\u001b[0m \u001b[38;5;28;01mfrom\u001b[39;00m \u001b[38;5;21;01m.\u001b[39;00m\u001b[38;5;21;01m_param_validation\u001b[39;00m \u001b[38;5;28;01mimport\u001b[39;00m Interval, validate_params\n\u001b[0;32m     12\u001b[0m \u001b[38;5;28;01mfrom\u001b[39;00m \u001b[38;5;21;01m.\u001b[39;00m\u001b[38;5;21;01mextmath\u001b[39;00m \u001b[38;5;28;01mimport\u001b[39;00m _approximate_mode\n\u001b[1;32m---> 13\u001b[0m \u001b[38;5;28;01mfrom\u001b[39;00m \u001b[38;5;21;01m.\u001b[39;00m\u001b[38;5;21;01mvalidation\u001b[39;00m \u001b[38;5;28;01mimport\u001b[39;00m (\n\u001b[0;32m     14\u001b[0m     _is_arraylike_not_scalar,\n\u001b[0;32m     15\u001b[0m     _is_pandas_df,\n\u001b[0;32m     16\u001b[0m     _is_polars_df_or_series,\n\u001b[0;32m     17\u001b[0m     _use_interchange_protocol,\n\u001b[0;32m     18\u001b[0m     check_array,\n\u001b[0;32m     19\u001b[0m     check_consistent_length,\n\u001b[0;32m     20\u001b[0m     check_random_state,\n\u001b[0;32m     21\u001b[0m )\n\u001b[0;32m     24\u001b[0m \u001b[38;5;28;01mdef\u001b[39;00m \u001b[38;5;21m_array_indexing\u001b[39m(array, key, key_dtype, axis):\n\u001b[0;32m     25\u001b[0m \u001b[38;5;250m    \u001b[39m\u001b[38;5;124;03m\"\"\"Index an array or scipy.sparse consistently across NumPy version.\"\"\"\u001b[39;00m\n",
      "\u001b[1;31mImportError\u001b[0m: cannot import name '_is_polars_df_or_series' from 'sklearn.utils.validation' (C:\\ProgramData\\anaconda3\\Lib\\site-packages\\sklearn\\utils\\validation.py)"
     ]
    }
   ],
   "source": [
    " from numpy import mean\n",
    " from numpy import std\n",
    " from sklearn.datasets import make_classification\n",
    " from sklearn.model_selection import cross_val_score\n",
    " from sklearn.model_selection import RepeatedStratifiedKFold\n",
    " from sklearn.linear_model import LogisticRegression\n",
    " from sklearn.neighbors import KNeighborsClassifier\n",
    " from sklearn.tree import DecisionTreeClassifier\n",
    " from sklearn.svm import SVC\n",
    " from sklearn.naive_bayes import GaussianNB\n",
    " from matplotlib import pyplot"
   ]
  },
  {
   "cell_type": "code",
   "execution_count": 4,
   "id": "6960c8aa-7576-42c2-90a8-9266affcb565",
   "metadata": {},
   "outputs": [
    {
     "name": "stdout",
     "output_type": "stream",
     "text": [
      "^C\n",
      "Note: you may need to restart the kernel to use updated packages.\n"
     ]
    }
   ],
   "source": [
    "pip uninstall numpy>2.0"
   ]
  },
  {
   "cell_type": "code",
   "execution_count": 1,
   "id": "d71decc9-568f-4059-a924-1d6228aba03d",
   "metadata": {},
   "outputs": [
    {
     "name": "stdout",
     "output_type": "stream",
     "text": [
      "Defaulting to user installation because normal site-packages is not writeable\n",
      "Collecting pybind11\n",
      "  Downloading pybind11-2.13.6-py3-none-any.whl.metadata (9.5 kB)\n",
      "Downloading pybind11-2.13.6-py3-none-any.whl (243 kB)\n",
      "   ---------------------------------------- 0.0/243.3 kB ? eta -:--:--\n",
      "   ----- ---------------------------------- 30.7/243.3 kB 1.3 MB/s eta 0:00:01\n",
      "   -------------------------------------- - 235.5/243.3 kB 3.6 MB/s eta 0:00:01\n",
      "   ---------------------------------------- 243.3/243.3 kB 3.7 MB/s eta 0:00:00\n",
      "Installing collected packages: pybind11\n",
      "Successfully installed pybind11-2.13.6\n",
      "Note: you may need to restart the kernel to use updated packages.\n"
     ]
    },
    {
     "name": "stderr",
     "output_type": "stream",
     "text": [
      "  WARNING: The script pybind11-config.exe is installed in 'C:\\Users\\Pixiedust\\AppData\\Roaming\\Python\\Python312\\Scripts' which is not on PATH.\n",
      "  Consider adding this directory to PATH or, if you prefer to suppress this warning, use --no-warn-script-location.\n"
     ]
    }
   ],
   "source": [
    "pip install --upgrade pybind11"
   ]
  },
  {
   "cell_type": "code",
   "execution_count": 1,
   "id": "4654bc8c-3c7e-436c-958e-b4edec35b966",
   "metadata": {},
   "outputs": [
    {
     "name": "stdout",
     "output_type": "stream",
     "text": [
      "Defaulting to user installation because normal site-packages is not writeable\n",
      "Requirement already satisfied: scipy in c:\\programdata\\anaconda3\\lib\\site-packages (1.13.1)\n",
      "Collecting scipy\n",
      "  Downloading scipy-1.14.1-cp312-cp312-win_amd64.whl.metadata (60 kB)\n",
      "     ---------------------------------------- 0.0/60.8 kB ? eta -:--:--\n",
      "     ------------ ------------------------- 20.5/60.8 kB 682.7 kB/s eta 0:00:01\n",
      "     -------------------------------------- 60.8/60.8 kB 815.1 kB/s eta 0:00:00\n",
      "Requirement already satisfied: numpy<2.3,>=1.23.5 in c:\\users\\pixiedust\\appdata\\roaming\\python\\python312\\site-packages (from scipy) (2.0.2)\n",
      "Downloading scipy-1.14.1-cp312-cp312-win_amd64.whl (44.5 MB)\n",
      "   ---------------------------------------- 0.0/44.5 MB ? eta -:--:--\n",
      "   ---------------------------------------- 0.2/44.5 MB 5.3 MB/s eta 0:00:09\n",
      "    --------------------------------------- 0.8/44.5 MB 10.6 MB/s eta 0:00:05\n",
      "   -- ------------------------------------- 2.5/44.5 MB 20.2 MB/s eta 0:00:03\n",
      "   --- ------------------------------------ 3.7/44.5 MB 21.7 MB/s eta 0:00:02\n",
      "   ---- ----------------------------------- 4.9/44.5 MB 22.4 MB/s eta 0:00:02\n",
      "   ----- ---------------------------------- 6.1/44.5 MB 23.1 MB/s eta 0:00:02\n",
      "   ------ --------------------------------- 7.3/44.5 MB 23.5 MB/s eta 0:00:02\n",
      "   ------- -------------------------------- 8.6/44.5 MB 23.8 MB/s eta 0:00:02\n",
      "   -------- ------------------------------- 9.7/44.5 MB 24.0 MB/s eta 0:00:02\n",
      "   --------- ------------------------------ 11.0/44.5 MB 27.3 MB/s eta 0:00:02\n",
      "   ---------- ----------------------------- 12.1/44.5 MB 26.2 MB/s eta 0:00:02\n",
      "   ----------- ---------------------------- 13.3/44.5 MB 26.2 MB/s eta 0:00:02\n",
      "   ------------- -------------------------- 14.5/44.5 MB 26.2 MB/s eta 0:00:02\n",
      "   -------------- ------------------------- 15.7/44.5 MB 26.2 MB/s eta 0:00:02\n",
      "   --------------- ------------------------ 16.9/44.5 MB 26.2 MB/s eta 0:00:02\n",
      "   ---------------- ----------------------- 18.1/44.5 MB 25.2 MB/s eta 0:00:02\n",
      "   ----------------- ---------------------- 19.3/44.5 MB 26.2 MB/s eta 0:00:01\n",
      "   ------------------ --------------------- 20.5/44.5 MB 25.2 MB/s eta 0:00:01\n",
      "   ------------------- -------------------- 21.7/44.5 MB 25.2 MB/s eta 0:00:01\n",
      "   -------------------- ------------------- 22.8/44.5 MB 25.2 MB/s eta 0:00:01\n",
      "   --------------------- ------------------ 24.1/44.5 MB 25.1 MB/s eta 0:00:01\n",
      "   ---------------------- ----------------- 25.3/44.5 MB 25.1 MB/s eta 0:00:01\n",
      "   ----------------------- ---------------- 26.5/44.5 MB 25.2 MB/s eta 0:00:01\n",
      "   ------------------------ --------------- 27.7/44.5 MB 26.2 MB/s eta 0:00:01\n",
      "   ------------------------- -------------- 28.9/44.5 MB 26.2 MB/s eta 0:00:01\n",
      "   --------------------------- ------------ 30.1/44.5 MB 26.2 MB/s eta 0:00:01\n",
      "   ---------------------------- ----------- 31.3/44.5 MB 26.2 MB/s eta 0:00:01\n",
      "   ----------------------------- ---------- 32.5/44.5 MB 26.2 MB/s eta 0:00:01\n",
      "   ------------------------------ --------- 33.6/44.5 MB 25.1 MB/s eta 0:00:01\n",
      "   ------------------------------- -------- 34.9/44.5 MB 25.1 MB/s eta 0:00:01\n",
      "   ------------------------------- -------- 35.4/44.5 MB 26.2 MB/s eta 0:00:01\n",
      "   ------------------------------- -------- 35.4/44.5 MB 26.2 MB/s eta 0:00:01\n",
      "   ------------------------------- -------- 35.4/44.5 MB 26.2 MB/s eta 0:00:01\n",
      "   -------------------------------- ------- 36.3/44.5 MB 19.3 MB/s eta 0:00:01\n",
      "   ---------------------------------- ----- 38.2/44.5 MB 20.5 MB/s eta 0:00:01\n",
      "   ------------------------------------- -- 41.3/44.5 MB 24.2 MB/s eta 0:00:01\n",
      "   -------------------------------------- - 42.5/44.5 MB 24.2 MB/s eta 0:00:01\n",
      "   ---------------------------------------  43.7/44.5 MB 24.2 MB/s eta 0:00:01\n",
      "   ---------------------------------------  44.5/44.5 MB 24.2 MB/s eta 0:00:01\n",
      "   ---------------------------------------  44.5/44.5 MB 24.2 MB/s eta 0:00:01\n",
      "   ---------------------------------------- 44.5/44.5 MB 21.1 MB/s eta 0:00:00\n",
      "Installing collected packages: scipy\n",
      "Successfully installed scipy-1.14.1\n",
      "Note: you may need to restart the kernel to use updated packages.\n"
     ]
    }
   ],
   "source": [
    "pip install --upgrade scipy"
   ]
  },
  {
   "cell_type": "code",
   "execution_count": 2,
   "id": "f99ec649-2c27-4ee9-aac0-3e2050a23734",
   "metadata": {},
   "outputs": [
    {
     "name": "stdout",
     "output_type": "stream",
     "text": [
      "Defaulting to user installation because normal site-packages is not writeable\n",
      "Requirement already satisfied: scikit-learn in c:\\programdata\\anaconda3\\lib\\site-packages (1.4.2)\n",
      "Collecting scikit-learn\n",
      "  Downloading scikit_learn-1.5.2-cp312-cp312-win_amd64.whl.metadata (13 kB)\n",
      "Requirement already satisfied: numpy in c:\\users\\pixiedust\\appdata\\roaming\\python\\python312\\site-packages (2.0.2)\n",
      "Collecting numpy\n",
      "  Downloading numpy-2.1.1-cp312-cp312-win_amd64.whl.metadata (59 kB)\n",
      "     ---------------------------------------- 0.0/59.7 kB ? eta -:--:--\n",
      "     ---------------------------------- ----- 51.2/59.7 kB 1.3 MB/s eta 0:00:01\n",
      "     ---------------------------------------- 59.7/59.7 kB 1.6 MB/s eta 0:00:00\n",
      "Requirement already satisfied: scipy>=1.6.0 in c:\\users\\pixiedust\\appdata\\roaming\\python\\python312\\site-packages (from scikit-learn) (1.14.1)\n",
      "Requirement already satisfied: joblib>=1.2.0 in c:\\programdata\\anaconda3\\lib\\site-packages (from scikit-learn) (1.4.2)\n",
      "Collecting threadpoolctl>=3.1.0 (from scikit-learn)\n",
      "  Downloading threadpoolctl-3.5.0-py3-none-any.whl.metadata (13 kB)\n",
      "Downloading scikit_learn-1.5.2-cp312-cp312-win_amd64.whl (11.0 MB)\n",
      "   ---------------------------------------- 0.0/11.0 MB ? eta -:--:--\n",
      "    --------------------------------------- 0.3/11.0 MB 7.9 MB/s eta 0:00:02\n",
      "   --- ------------------------------------ 1.0/11.0 MB 12.6 MB/s eta 0:00:01\n",
      "   --------- ------------------------------ 2.6/11.0 MB 21.0 MB/s eta 0:00:01\n",
      "   ------------- -------------------------- 3.8/11.0 MB 22.1 MB/s eta 0:00:01\n",
      "   ------------------ --------------------- 5.0/11.0 MB 22.9 MB/s eta 0:00:01\n",
      "   ---------------------- ----------------- 6.2/11.0 MB 23.4 MB/s eta 0:00:01\n",
      "   -------------------------- ------------- 7.4/11.0 MB 23.6 MB/s eta 0:00:01\n",
      "   ------------------------------- -------- 8.6/11.0 MB 23.8 MB/s eta 0:00:01\n",
      "   ----------------------------------- ---- 9.8/11.0 MB 24.1 MB/s eta 0:00:01\n",
      "   ---------------------------------------  11.0/11.0 MB 27.3 MB/s eta 0:00:01\n",
      "   ---------------------------------------  11.0/11.0 MB 27.3 MB/s eta 0:00:01\n",
      "   ---------------------------------------- 11.0/11.0 MB 24.2 MB/s eta 0:00:00\n",
      "Downloading numpy-2.1.1-cp312-cp312-win_amd64.whl (12.6 MB)\n",
      "   ---------------------------------------- 0.0/12.6 MB ? eta -:--:--\n",
      "   ---- ----------------------------------- 1.5/12.6 MB 47.0 MB/s eta 0:00:01\n",
      "   -------- ------------------------------- 2.7/12.6 MB 34.1 MB/s eta 0:00:01\n",
      "   ------------ --------------------------- 3.9/12.6 MB 31.0 MB/s eta 0:00:01\n",
      "   ---------------- ----------------------- 5.1/12.6 MB 29.5 MB/s eta 0:00:01\n",
      "   ------------------- -------------------- 6.3/12.6 MB 28.6 MB/s eta 0:00:01\n",
      "   ----------------------- ---------------- 7.5/12.6 MB 28.1 MB/s eta 0:00:01\n",
      "   --------------------------- ------------ 8.7/12.6 MB 27.7 MB/s eta 0:00:01\n",
      "   ------------------------------- -------- 9.9/12.6 MB 27.4 MB/s eta 0:00:01\n",
      "   ----------------------------------- ---- 11.1/12.6 MB 26.2 MB/s eta 0:00:01\n",
      "   -------------------------------------- - 12.2/12.6 MB 25.1 MB/s eta 0:00:01\n",
      "   ---------------------------------------- 12.6/12.6 MB 24.2 MB/s eta 0:00:00\n",
      "Downloading threadpoolctl-3.5.0-py3-none-any.whl (18 kB)\n",
      "Installing collected packages: threadpoolctl, numpy, scikit-learn\n",
      "  Attempting uninstall: numpy\n",
      "    Found existing installation: numpy 2.0.2\n",
      "    Uninstalling numpy-2.0.2:\n",
      "      Successfully uninstalled numpy-2.0.2\n",
      "Successfully installed numpy-2.1.1 scikit-learn-1.5.2 threadpoolctl-3.5.0\n",
      "Note: you may need to restart the kernel to use updated packages.\n"
     ]
    },
    {
     "name": "stderr",
     "output_type": "stream",
     "text": [
      "  WARNING: The scripts f2py.exe and numpy-config.exe are installed in 'C:\\Users\\Pixiedust\\AppData\\Roaming\\Python\\Python312\\Scripts' which is not on PATH.\n",
      "  Consider adding this directory to PATH or, if you prefer to suppress this warning, use --no-warn-script-location.\n",
      "  WARNING: Failed to remove contents in a temporary directory 'C:\\Users\\Pixiedust\\AppData\\Roaming\\Python\\Python312\\site-packages\\~umpy.libs'.\n",
      "  You can safely remove it manually.\n",
      "  WARNING: Failed to remove contents in a temporary directory 'C:\\Users\\Pixiedust\\AppData\\Roaming\\Python\\Python312\\site-packages\\~umpy'.\n",
      "  You can safely remove it manually.\n",
      "ERROR: pip's dependency resolver does not currently take into account all the packages that are installed. This behaviour is the source of the following dependency conflicts.\n",
      "tensorflow-intel 2.17.0 requires numpy<2.0.0,>=1.26.0; python_version >= \"3.12\", but you have numpy 2.1.1 which is incompatible.\n",
      "thinc 8.3.2 requires numpy<2.1.0,>=2.0.0; python_version >= \"3.9\", but you have numpy 2.1.1 which is incompatible.\n",
      "contourpy 1.2.0 requires numpy<2.0,>=1.20, but you have numpy 2.1.1 which is incompatible.\n",
      "numba 0.59.1 requires numpy<1.27,>=1.22, but you have numpy 2.1.1 which is incompatible.\n",
      "pywavelets 1.5.0 requires numpy<2.0,>=1.22.4, but you have numpy 2.1.1 which is incompatible.\n",
      "streamlit 1.32.0 requires numpy<2,>=1.19.3, but you have numpy 2.1.1 which is incompatible.\n"
     ]
    }
   ],
   "source": [
    "pip install --upgrade scikit-learn numpy"
   ]
  },
  {
   "cell_type": "code",
   "execution_count": 4,
   "id": "d6ef167d-a249-490a-a31f-ca062397687f",
   "metadata": {},
   "outputs": [
    {
     "name": "stdout",
     "output_type": "stream",
     "text": [
      "Note: you may need to restart the kernel to use updated packages.\n"
     ]
    },
    {
     "name": "stderr",
     "output_type": "stream",
     "text": [
      "The system cannot find the file specified.\n"
     ]
    }
   ],
   "source": [
    "pip install numpy<2"
   ]
  },
  {
   "cell_type": "code",
   "execution_count": null,
   "id": "db63f75c-d238-47dc-8c29-a03f3e5d1f72",
   "metadata": {},
   "outputs": [],
   "source": [
    "pip uninstall scikit-learn"
   ]
  },
  {
   "cell_type": "code",
   "execution_count": null,
   "id": "b2f28a59-fa3c-4458-8996-62e90515f2c3",
   "metadata": {},
   "outputs": [],
   "source": []
  }
 ],
 "metadata": {
  "kernelspec": {
   "display_name": "Python 3 (ipykernel)",
   "language": "python",
   "name": "python3"
  },
  "language_info": {
   "codemirror_mode": {
    "name": "ipython",
    "version": 3
   },
   "file_extension": ".py",
   "mimetype": "text/x-python",
   "name": "python",
   "nbconvert_exporter": "python",
   "pygments_lexer": "ipython3",
   "version": "3.12.4"
  }
 },
 "nbformat": 4,
 "nbformat_minor": 5
}
