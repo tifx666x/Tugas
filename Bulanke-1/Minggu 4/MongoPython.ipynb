{
 "cells": [
  {
   "cell_type": "code",
   "execution_count": 3,
   "id": "73281f95-16b0-45d4-a72f-c344f20a2f0c",
   "metadata": {},
   "outputs": [
    {
     "name": "stdout",
     "output_type": "stream",
     "text": [
      "{'_id': ObjectId('66fe37d1d7114fb0ecb7252a'), 'nama ': 'Muhamad Nurlatif', 'kelas': 'Alpha (A)', 'nim': 20220810108.0, 'kota': 'Kuningan', 'nohp': '0895617548349'}\n",
      "{'_id': ObjectId('66fe395ad7114fb0ecb72533'), 'nama ': 'Muhamad Bagus Alfarizi', 'kelas': 'Alpha (A)', 'nim': 20220810100, 'kota': 'Bandung', 'nohp': '0895235548349'}\n",
      "{'_id': ObjectId('66fe39b9d7114fb0ecb72535'), 'nama ': 'Ilham Adi', 'kelas': 'Alpha (A)', 'nim': 20220810198, 'kota': 'Jakarta', 'nohp': '0895617543349'}\n",
      "{'_id': ObjectId('66fe39ddd7114fb0ecb72536'), 'nama ': 'Ratnasari', 'kelas': 'Alpha (A)', 'nim': 20220812198, 'kota': 'Purwakarta', 'nohp': '0895617542349'}\n",
      "{'_id': ObjectId('66fe3a08d7114fb0ecb72537'), 'nama ': 'Sherlie Amanda', 'kelas': 'Alpha (A)', 'nim': 20220822198, 'kota': 'Solo', 'nohp': '0895613442349'}\n",
      "{'_id': ObjectId('66fe3a36d7114fb0ecb72538'), 'nama ': 'Gina Amelia', 'kelas': 'Alpha (A)', 'nim': 20220811108, 'kota': 'Manado', 'nohp': '0895621548349'}\n",
      "{'_id': ObjectId('66fe3a5fd7114fb0ecb72539'), 'nama ': 'Mathias Dwi', 'kelas': 'Alpha (A)', 'nim': 20229811208, 'kota': 'Batam', 'nohp': '0895621532349'}\n",
      "{'_id': ObjectId('66fe3a87d7114fb0ecb7253a'), 'nama ': 'Vanessa Clara', 'kelas': 'Alpha (A)', 'nim': 2022714208, 'kota': 'Pekanbaru', 'nohp': '089934532349'}\n",
      "{'_id': ObjectId('66fe3aafd7114fb0ecb7253b'), 'nama ': 'Vera Putri', 'kelas': 'Alpha (A)', 'nim': 20220101108, 'kota': 'Nusa Tenggara Barat', 'nohp': '0895623448349'}\n",
      "{'_id': ObjectId('66fe3ad3d7114fb0ecb7253c'), 'nama ': 'Tiara Anindhita', 'kelas': 'Alpha (A)', 'nim': 2022010208, 'kota': 'Padang', 'nohp': '0895623328349'}\n"
     ]
    }
   ],
   "source": [
    "#LIHAT DATA\n",
    "from pymongo import MongoClient\n",
    "\n",
    "# Koneksi ke MongoDB\n",
    "client = MongoClient(\"mongodb://localhost:27017/\")  # Pastikan MongoDB berjalan secara lokal di port 27017\n",
    "\n",
    "# Pilih database\n",
    "db = client[\"Latihan1\"]  # Ganti dengan nama database Anda\n",
    "\n",
    "# Pilih collection\n",
    "collection = db[\"data mhs\"]  # Ganti dengan nama koleksi yang ingin dibuka\n",
    "\n",
    "# Menampilkan isi collection\n",
    "documents = collection.find()  # Mengambil semua dokumen dari koleksi\n",
    "\n",
    "# Menampilkan isi dokumen\n",
    "for doc in documents:\n",
    "    print(doc)\n",
    "\n",
    "# Menutup koneksi\n",
    "client.close()\n"
   ]
  },
  {
   "cell_type": "code",
   "execution_count": 4,
   "id": "59b62ede-88d7-4602-b95d-9b35866c0009",
   "metadata": {},
   "outputs": [
    {
     "name": "stdout",
     "output_type": "stream",
     "text": [
      "Data berhasil ditambahkan dengan ID: 66fe3fea8aecdffa8d511ca7\n"
     ]
    }
   ],
   "source": [
    "#TAMBAH DATA\n",
    "from pymongo import MongoClient\n",
    "\n",
    "# Koneksi ke MongoDB\n",
    "client = MongoClient(\"mongodb://localhost:27017/\")  # Ubah sesuai dengan host MongoDB Anda\n",
    "\n",
    "# Pilih database\n",
    "db = client[\"Latihan1\"]  # Ganti dengan nama database Anda\n",
    "\n",
    "# Pilih collection\n",
    "collection = db[\"data mhs\"]  # Ganti dengan nama koleksi Anda\n",
    "\n",
    "# Data yang ingin ditambahkan\n",
    "data_baru = {\n",
    "    \"nama\": \"Budi\",\n",
    "    \"kelas\": \"Alpha (A)\",\n",
    "    \"nim\": 20220810092,\n",
    "    \"kota\": \"Jakarta\",\n",
    "    \"nohp\": \"0821392378821\"\n",
    "}\n",
    "\n",
    "# Menambahkan data ke collection\n",
    "insert_result = collection.insert_one(data_baru)\n",
    "\n",
    "# Menampilkan ID dokumen yang baru ditambahkan\n",
    "print(f\"Data berhasil ditambahkan dengan ID: {insert_result.inserted_id}\")\n",
    "\n",
    "# Menutup koneksi\n",
    "client.close()\n"
   ]
  },
  {
   "cell_type": "code",
   "execution_count": 5,
   "id": "0222ec8c-619b-4215-ab97-6b204d72eb4b",
   "metadata": {},
   "outputs": [
    {
     "name": "stdout",
     "output_type": "stream",
     "text": [
      "1 dokumen berhasil diupdate.\n"
     ]
    }
   ],
   "source": [
    "#UPDATE DATA\n",
    "from pymongo import MongoClient\n",
    "\n",
    "# Koneksi ke MongoDB\n",
    "client = MongoClient(\"mongodb://localhost:27017/\")  # Ubah sesuai dengan host MongoDB Anda\n",
    "\n",
    "# Pilih database\n",
    "db = client[\"Latihan1\"]  # Ganti dengan nama database Anda\n",
    "\n",
    "# Pilih collection\n",
    "collection = db[\"data mhs\"]  # Ganti dengan nama koleksi Anda\n",
    "\n",
    "# Kriteria data yang ingin diedit (misalnya berdasarkan nama)\n",
    "kriteria = {\"nama\": \"Budi\"}\n",
    "\n",
    "# Data baru yang ingin diupdate\n",
    "data_baru = {\n",
    "    \"$set\": {\n",
    "        \"nohp\": \"082139742652\",  # Mengubah umur\n",
    "        \"kota\": \"Banten\",  # Mengubah kota di dalam field alamat\n",
    "    }\n",
    "}\n",
    "\n",
    "# Melakukan update data\n",
    "update_result = collection.update_one(kriteria, data_baru)\n",
    "\n",
    "# Menampilkan hasil\n",
    "if update_result.matched_count > 0:\n",
    "    print(f\"{update_result.modified_count} dokumen berhasil diupdate.\")\n",
    "else:\n",
    "    print(\"Tidak ada data yang cocok untuk diupdate.\")\n",
    "\n",
    "# Menutup koneksi\n",
    "client.close()\n"
   ]
  },
  {
   "cell_type": "code",
   "execution_count": 6,
   "id": "96bc216c-f374-4a34-86eb-1e539e667f8d",
   "metadata": {},
   "outputs": [
    {
     "name": "stdout",
     "output_type": "stream",
     "text": [
      "Dokumen berhasil dihapus.\n"
     ]
    }
   ],
   "source": [
    "#HAPUS DATA\n",
    "from pymongo import MongoClient\n",
    "\n",
    "# Koneksi ke MongoDB\n",
    "client = MongoClient(\"mongodb://localhost:27017/\")  # Ubah sesuai dengan host MongoDB Anda\n",
    "\n",
    "# Pilih database\n",
    "db = client[\"Latihan1\"]  # Ganti dengan nama database Anda\n",
    "\n",
    "# Pilih collection\n",
    "collection = db[\"data mhs\"]  # Ganti dengan nama koleksi Anda\n",
    "\n",
    "# Kriteria data yang ingin dihapus (misalnya berdasarkan nama)\n",
    "kriteria = {\"nama\": \"Budi\"}\n",
    "\n",
    "# Menghapus satu data yang sesuai dengan kriteria\n",
    "delete_result = collection.delete_one(kriteria)\n",
    "\n",
    "# Menampilkan hasil\n",
    "if delete_result.deleted_count > 0:\n",
    "    print(\"Dokumen berhasil dihapus.\")\n",
    "else:\n",
    "    print(\"Tidak ada data yang cocok untuk dihapus.\")\n",
    "\n",
    "# Menutup koneksi\n",
    "client.close()\n"
   ]
  },
  {
   "cell_type": "code",
   "execution_count": null,
   "id": "b68b112d-54be-4bee-97d2-fb08f65ac551",
   "metadata": {},
   "outputs": [],
   "source": []
  }
 ],
 "metadata": {
  "kernelspec": {
   "display_name": "Python 3 (ipykernel)",
   "language": "python",
   "name": "python3"
  },
  "language_info": {
   "codemirror_mode": {
    "name": "ipython",
    "version": 3
   },
   "file_extension": ".py",
   "mimetype": "text/x-python",
   "name": "python",
   "nbconvert_exporter": "python",
   "pygments_lexer": "ipython3",
   "version": "3.12.4"
  }
 },
 "nbformat": 4,
 "nbformat_minor": 5
}
