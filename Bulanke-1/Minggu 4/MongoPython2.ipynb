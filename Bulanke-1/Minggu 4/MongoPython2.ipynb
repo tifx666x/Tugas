{
 "cells": [
  {
   "cell_type": "code",
   "execution_count": 7,
   "id": "73281f95-16b0-45d4-a72f-c344f20a2f0c",
   "metadata": {},
   "outputs": [
    {
     "name": "stdout",
     "output_type": "stream",
     "text": [
      "{'_id': ObjectId('66fe3becd263b84f53e9b361'), 'nama': 'Sumaryono', 'alamat': 'Bandung', 'Telp': '0819879198921', 'pekerjaan': 'Manajer IT', 'umur': 35}\n",
      "{'_id': ObjectId('66fe3c24d263b84f53e9b362'), 'nama': 'Didik Rochmat', 'JenisKelamin': 'L'}\n",
      "{'_id': ObjectId('66fe3caed62217de9f249a93'), 'nama': 'Budi', 'umur': 30, 'pekerjaan': 'Pengembang Perangkat Lunak', 'alamat': {'jalan': 'Jalan Merdeka No. 123', 'kota': 'Jakarta', 'kode_pos': '12345'}}\n"
     ]
    }
   ],
   "source": [
    "#LIHAT DATA\n",
    "from pymongo import MongoClient\n",
    "\n",
    "# Koneksi ke MongoDB\n",
    "client = MongoClient(\"mongodb://localhost:27017/\")  # Pastikan MongoDB berjalan secara lokal di port 27017\n",
    "\n",
    "# Pilih database\n",
    "db = client[\"Latihan1\"]  # Ganti dengan nama database Anda\n",
    "\n",
    "# Pilih collection\n",
    "collection = db[\"Mahasiswa\"]  # Ganti dengan nama koleksi yang ingin dibuka\n",
    "\n",
    "# Menampilkan isi collection\n",
    "documents = collection.find()  # Mengambil semua dokumen dari koleksi\n",
    "\n",
    "# Menampilkan isi dokumen\n",
    "for doc in documents:\n",
    "    print(doc)\n",
    "\n",
    "# Menutup koneksi\n",
    "client.close()\n"
   ]
  },
  {
   "cell_type": "code",
   "execution_count": 3,
   "id": "59b62ede-88d7-4602-b95d-9b35866c0009",
   "metadata": {},
   "outputs": [
    {
     "name": "stdout",
     "output_type": "stream",
     "text": [
      "Data berhasil ditambahkan dengan ID: 66fe3caed62217de9f249a93\n"
     ]
    }
   ],
   "source": [
    "#TAMBAH DATA\n",
    "from pymongo import MongoClient\n",
    "\n",
    "# Koneksi ke MongoDB\n",
    "client = MongoClient(\"mongodb://localhost:27017/\")  # Ubah sesuai dengan host MongoDB Anda\n",
    "\n",
    "# Pilih database\n",
    "db = client[\"Latihan1\"]  # Ganti dengan nama database Anda\n",
    "\n",
    "# Pilih collection\n",
    "collection = db[\"Mahasiswa\"]  # Ganti dengan nama koleksi Anda\n",
    "\n",
    "# Data yang ingin ditambahkan\n",
    "data_baru = {\n",
    "    \"nama\": \"Budi\",\n",
    "    \"umur\": 30,\n",
    "    \"pekerjaan\": \"Pengembang Perangkat Lunak\",\n",
    "    \"alamat\": {\n",
    "        \"jalan\": \"Jalan Merdeka No. 123\",\n",
    "        \"kota\": \"Jakarta\",\n",
    "        \"kode_pos\": \"12345\"\n",
    "    }\n",
    "}\n",
    "\n",
    "# Menambahkan data ke collection\n",
    "insert_result = collection.insert_one(data_baru)\n",
    "\n",
    "# Menampilkan ID dokumen yang baru ditambahkan\n",
    "print(f\"Data berhasil ditambahkan dengan ID: {insert_result.inserted_id}\")\n",
    "\n",
    "# Menutup koneksi\n",
    "client.close()\n"
   ]
  },
  {
   "cell_type": "code",
   "execution_count": 6,
   "id": "0222ec8c-619b-4215-ab97-6b204d72eb4b",
   "metadata": {},
   "outputs": [
    {
     "name": "stdout",
     "output_type": "stream",
     "text": [
      "1 dokumen berhasil diupdate.\n"
     ]
    }
   ],
   "source": [
    "#UPDATE DATA\n",
    "from pymongo import MongoClient\n",
    "\n",
    "# Koneksi ke MongoDB\n",
    "client = MongoClient(\"mongodb://localhost:27017/\")  # Ubah sesuai dengan host MongoDB Anda\n",
    "\n",
    "# Pilih database\n",
    "db = client[\"Latihan1\"]  # Ganti dengan nama database Anda\n",
    "\n",
    "# Pilih collection\n",
    "collection = db[\"Mahasiswa\"]  # Ganti dengan nama koleksi Anda\n",
    "\n",
    "# Kriteria data yang ingin diedit (misalnya berdasarkan nama)\n",
    "kriteria = {\"nama\": \"Sumaryono\"}\n",
    "\n",
    "# Data baru yang ingin diupdate\n",
    "data_baru = {\n",
    "    \"$set\": {\n",
    "        \"umur\": 35,  # Mengubah umur\n",
    "        \"alamat\": \"Bandung\",  # Mengubah kota di dalam field alamat\n",
    "        \"pekerjaan\": \"Manajer IT\"  # Mengubah pekerjaan\n",
    "    }\n",
    "}\n",
    "\n",
    "# Melakukan update data\n",
    "update_result = collection.update_one(kriteria, data_baru)\n",
    "\n",
    "# Menampilkan hasil\n",
    "if update_result.matched_count > 0:\n",
    "    print(f\"{update_result.modified_count} dokumen berhasil diupdate.\")\n",
    "else:\n",
    "    print(\"Tidak ada data yang cocok untuk diupdate.\")\n",
    "\n",
    "# Menutup koneksi\n",
    "client.close()\n"
   ]
  },
  {
   "cell_type": "code",
   "execution_count": null,
   "id": "96bc216c-f374-4a34-86eb-1e539e667f8d",
   "metadata": {},
   "outputs": [],
   "source": [
    "#HAPUS DATA\n",
    "from pymongo import MongoClient\n",
    "\n",
    "# Koneksi ke MongoDB\n",
    "client = MongoClient(\"mongodb://localhost:27017/\")  # Ubah sesuai dengan host MongoDB Anda\n",
    "\n",
    "# Pilih database\n",
    "db = client[\"nama_database\"]  # Ganti dengan nama database Anda\n",
    "\n",
    "# Pilih collection\n",
    "collection = db[\"nama_koleksi\"]  # Ganti dengan nama koleksi Anda\n",
    "\n",
    "# Kriteria data yang ingin dihapus (misalnya berdasarkan nama)\n",
    "kriteria = {\"nama\": \"Sumaryono\"}\n",
    "\n",
    "# Menghapus satu data yang sesuai dengan kriteria\n",
    "delete_result = collection.delete_one(kriteria)\n",
    "\n",
    "# Menampilkan hasil\n",
    "if delete_result.deleted_count > 0:\n",
    "    print(\"Dokumen berhasil dihapus.\")\n",
    "else:\n",
    "    print(\"Tidak ada data yang cocok untuk dihapus.\")\n",
    "\n",
    "# Menutup koneksi\n",
    "client.close()\n"
   ]
  }
 ],
 "metadata": {
  "kernelspec": {
   "display_name": "Python 3 (ipykernel)",
   "language": "python",
   "name": "python3"
  },
  "language_info": {
   "codemirror_mode": {
    "name": "ipython",
    "version": 3
   },
   "file_extension": ".py",
   "mimetype": "text/x-python",
   "name": "python",
   "nbconvert_exporter": "python",
   "pygments_lexer": "ipython3",
   "version": "3.12.4"
  }
 },
 "nbformat": 4,
 "nbformat_minor": 5
}
