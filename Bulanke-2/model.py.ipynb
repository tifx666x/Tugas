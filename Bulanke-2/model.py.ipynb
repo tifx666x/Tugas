{
 "cells": [
  {
   "cell_type": "code",
   "execution_count": 3,
   "id": "0119e054-cad2-4827-bf1f-6ec99888d113",
   "metadata": {},
   "outputs": [
    {
     "ename": "SyntaxError",
     "evalue": "incomplete input (2012729790.py, line 36)",
     "output_type": "error",
     "traceback": [
      "\u001b[1;36m  Cell \u001b[1;32mIn[3], line 36\u001b[1;36m\u001b[0m\n\u001b[1;33m    predicted_price = model.predict(features_scaled)[0\u001b[0m\n\u001b[1;37m                                                      ^\u001b[0m\n\u001b[1;31mSyntaxError\u001b[0m\u001b[1;31m:\u001b[0m incomplete input\n"
     ]
    }
   ],
   "source": [
    "import numpy as np\n",
    "from sklearn.model_selection import train_test_split\n",
    "from sklearn.linear_model import LinearRegression\n",
    "from sklearn.preprocessing import StandardScaler\n",
    "import pandas as pd\n",
    "\n",
    "# Load dataset (California Housing atau dataset serupa)\n",
    "# Misalnya dataset California Housing tersedia sebagai 'california_housing.csv'\n",
    "data = pd.read_csv('california_housing.csv')\n",
    "\n",
    "# Preprocessing: Tangani nilai missing dan standarisasi\n",
    "data.fillna(data.mean(), inplace=True)\n",
    "X = data[['bedrooms', 'bathrooms', 'sqft', 'location_encoded']]  # Pastikan 'location' diencoding\n",
    "y = data['price']\n",
    "\n",
    "# Standarisasi data\n",
    "scaler = StandardScaler()\n",
    "X_scaled = scaler.fit_transform(X)\n",
    "\n",
    "# Pisahkan data menjadi pelatihan dan pengujian\n",
    "X_train, X_test, y_train, y_test = train_test_split(X_scaled, y, test_size=0.2, random_state=42)\n",
    "\n",
    "# Latih model Linear Regression\n",
    "model = LinearRegression()\n",
    "model.fit(X_train, y_train)\n",
    "\n",
    "def predict(bedrooms, bathrooms, sqft, location):\n",
    "    # Encoding fitur lokasi\n",
    "    location_encoded = encode_location(location)\n",
    "    \n",
    "    # Siapkan input untuk prediksi\n",
    "    features = np.array([[bedrooms, bathrooms, sqft, location_encoded]])\n",
    "    features_scaled = scaler.transform(features)\n",
    "    \n",
    "    # Prediksi harga rumah\n",
    "    predicted_price = model.predict(features_scaled)[0\n"
   ]
  },
  {
   "cell_type": "code",
   "execution_count": null,
   "id": "783bad6c-8bce-419b-a562-71974958672f",
   "metadata": {},
   "outputs": [],
   "source": []
  }
 ],
 "metadata": {
  "kernelspec": {
   "display_name": "Python 3 (ipykernel)",
   "language": "python",
   "name": "python3"
  },
  "language_info": {
   "codemirror_mode": {
    "name": "ipython",
    "version": 3
   },
   "file_extension": ".py",
   "mimetype": "text/x-python",
   "name": "python",
   "nbconvert_exporter": "python",
   "pygments_lexer": "ipython3",
   "version": "3.12.4"
  }
 },
 "nbformat": 4,
 "nbformat_minor": 5
}
