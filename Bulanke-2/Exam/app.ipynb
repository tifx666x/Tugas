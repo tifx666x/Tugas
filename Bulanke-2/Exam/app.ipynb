{
 "cells": [
  {
   "cell_type": "code",
   "execution_count": 20,
   "id": "d1fd3a19-4c70-43b3-9e23-456f65c19851",
   "metadata": {},
   "outputs": [
    {
     "ename": "ModuleNotFoundError",
     "evalue": "No module named 'model'",
     "output_type": "error",
     "traceback": [
      "\u001b[1;31m---------------------------------------------------------------------------\u001b[0m",
      "\u001b[1;31mModuleNotFoundError\u001b[0m                       Traceback (most recent call last)",
      "Cell \u001b[1;32mIn[20], line 6\u001b[0m\n\u001b[0;32m      4\u001b[0m \u001b[38;5;28;01mfrom\u001b[39;00m \u001b[38;5;21;01mpydantic\u001b[39;00m \u001b[38;5;28;01mimport\u001b[39;00m BaseModel\n\u001b[0;32m      5\u001b[0m \u001b[38;5;28;01mimport\u001b[39;00m \u001b[38;5;21;01mrequests\u001b[39;00m\n\u001b[1;32m----> 6\u001b[0m \u001b[38;5;28;01mimport\u001b[39;00m \u001b[38;5;21;01mmodel\u001b[39;00m\n\u001b[0;32m      7\u001b[0m \u001b[38;5;28;01mimport\u001b[39;00m \u001b[38;5;21;01mdatabase\u001b[39;00m\n\u001b[0;32m      9\u001b[0m \u001b[38;5;66;03m# Untuk mendukung FastAPI di Jupyter\u001b[39;00m\n",
      "\u001b[1;31mModuleNotFoundError\u001b[0m: No module named 'model'"
     ]
    }
   ],
   "source": [
    "import nest_asyncio\n",
    "import uvicorn\n",
    "from fastapi import FastAPI\n",
    "from pydantic import BaseModel\n",
    "import requests\n",
    "import model\n",
    "import database\n",
    "\n",
    "# Untuk mendukung FastAPI di Jupyter\n",
    "nest_asyncio.apply()\n",
    "\n",
    "# Buat aplikasi FastAPI\n",
    "app = FastAPI()\n",
    "\n",
    "class PropertyInput(BaseModel):\n",
    "    bedrooms: int\n",
    "    bathrooms: int\n",
    "    sqft_living: float\n",
    "    view: str\n",
    "\n",
    "@app.post(\"/predict\")\n",
    "def predict_price(property: PropertyInput):\n",
    "    # Ambil data pengguna dari API randomuser.me\n",
    "    user_data = requests.get(\"https://randomuser.me/api/\").json()\n",
    "    user_id = user_data['results'][0]['login']['uuid']\n",
    "    \n",
    "    # Prediksi harga rumah menggunakan model\n",
    "    predicted_price = model.predict(property.bedrooms, property.bathrooms, property.sqft_living, property.view)\n",
    "    \n",
    "    # Simpan data ke MongoDB\n",
    "    database.save_to_db(user_id, property.dict(), predicted_price)\n",
    "    \n",
    "    return {\"user_id\": user_id, \"predicted_price\": predicted_price}\n",
    "\n",
    "@app.get(\"/stats\")\n",
    "def get_stats():\n",
    "    stats = model.get_statistics()\n",
    "    return stats\n",
    "\n",
    "# Jalankan server FastAPI\n",
    "if __name__ == \"__main__\":\n",
    "    uvicorn.run(app, host=\"0.0.0.0\", port=8000)\n"
   ]
  },
  {
   "cell_type": "code",
   "execution_count": 16,
   "id": "1e65a733-c0cb-4bfa-a6cb-29d5d7bae51e",
   "metadata": {},
   "outputs": [
    {
     "name": "stdout",
     "output_type": "stream",
     "text": [
      "3.12.4 | packaged by Anaconda, Inc. | (main, Jun 18 2024, 15:03:56) [MSC v.1929 64 bit (AMD64)]\n"
     ]
    }
   ],
   "source": [
    "import sys\n",
    "print(sys.version)"
   ]
  },
  {
   "cell_type": "code",
   "execution_count": 19,
   "id": "bb444fb6-3128-4204-a256-7375a782b48e",
   "metadata": {},
   "outputs": [
    {
     "name": "stdout",
     "output_type": "stream",
     "text": [
      "Defaulting to user installation because normal site-packages is not writeableNote: you may need to restart the kernel to use updated packages.\n",
      "\n",
      "Requirement already satisfied: numpy in c:\\programdata\\anaconda3\\lib\\site-packages (1.26.4)\n",
      "Requirement already satisfied: scikit-learn in c:\\users\\pixiedust\\appdata\\roaming\\python\\python312\\site-packages (1.5.2)\n",
      "Requirement already satisfied: joblib in c:\\programdata\\anaconda3\\lib\\site-packages (1.4.2)\n",
      "Requirement already satisfied: scipy>=1.6.0 in c:\\users\\pixiedust\\appdata\\roaming\\python\\python312\\site-packages (from scikit-learn) (1.14.1)\n",
      "Requirement already satisfied: threadpoolctl>=3.1.0 in c:\\users\\pixiedust\\appdata\\roaming\\python\\python312\\site-packages (from scikit-learn) (3.5.0)\n"
     ]
    }
   ],
   "source": [
    "pip install numpy scikit-learn joblib"
   ]
  },
  {
   "cell_type": "code",
   "execution_count": null,
   "id": "ccb97d83-92fb-48e3-894d-f0fed4ba30a2",
   "metadata": {},
   "outputs": [],
   "source": []
  }
 ],
 "metadata": {
  "kernelspec": {
   "display_name": "Python 3 (ipykernel)",
   "language": "python",
   "name": "python3"
  },
  "language_info": {
   "codemirror_mode": {
    "name": "ipython",
    "version": 3
   },
   "file_extension": ".py",
   "mimetype": "text/x-python",
   "name": "python",
   "nbconvert_exporter": "python",
   "pygments_lexer": "ipython3",
   "version": "3.12.4"
  }
 },
 "nbformat": 4,
 "nbformat_minor": 5
}
