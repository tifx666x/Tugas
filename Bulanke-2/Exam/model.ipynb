{
 "cells": [
  {
   "cell_type": "code",
   "execution_count": 10,
   "id": "e58381b7-8a55-4788-a26e-d5d6e14d1b29",
   "metadata": {},
   "outputs": [],
   "source": [
    "import numpy as np\n",
    "from sklearn.linear_model import LinearRegression\n",
    "from sklearn.model_selection import train_test_split\n",
    "from sklearn.preprocessing import StandardScaler\n",
    "import pandas as pd\n",
    "\n",
    "# Muat dataset harga rumah\n",
    "data = pd.read_csv(\"housing2.csv\")\n",
    "X = data[[\"bedrooms\", \"bathrooms\", \"sqft_living\", \"view\"]]\n",
    "y = data[\"price\"]\n",
    "\n",
    "# Preprocessing\n",
    "scaler = StandardScaler()\n",
    "X_scaled = scaler.fit_transform(X)\n",
    "X_train, X_test, y_train, y_test = train_test_split(X_scaled, y, test_size=0.2)\n",
    "\n",
    "# Model Linear Regression\n",
    "model = LinearRegression()\n",
    "model.fit(X_train, y_train)\n",
    "\n",
    "def predict(bedrooms, bathrooms, sqft, location):\n",
    "    X_new = scaler.transform([[bedrooms, bathrooms, sqft_living, view]])\n",
    "    return model.predict(X_new)[0]\n",
    "\n",
    "def get_statistics():\n",
    "    return {\n",
    "        \"mean\": np.mean(y),\n",
    "        \"median\": np.median(y),\n",
    "        \"std_dev\": np.std(y)\n",
    "    }\n"
   ]
  },
  {
   "cell_type": "code",
   "execution_count": 11,
   "id": "c6f41ee4-171e-4a8f-9661-69ceb3d79103",
   "metadata": {},
   "outputs": [],
   "source": [
    "from pymongo import MongoClient\n",
    "import datetime\n",
    "\n",
    "# Koneksi ke MongoDB\n",
    "client = MongoClient(\"mongodb://localhost:27017/\")\n",
    "db = client['housing_db']\n",
    "\n",
    "def save_to_db(user_id, property_data, predicted_price):\n",
    "    db.predictions.insert_one({\n",
    "        \"user_id\": user_id,\n",
    "        \"property_data\": property_data,\n",
    "        \"predicted_price\": predicted_price,\n",
    "        \"timestamp\": datetime.datetime.now()\n",
    "    })\n"
   ]
  },
  {
   "cell_type": "code",
   "execution_count": null,
   "id": "146c0cf2-9131-495a-8350-5d677aad77de",
   "metadata": {},
   "outputs": [],
   "source": []
  }
 ],
 "metadata": {
  "kernelspec": {
   "display_name": "Python 3 (ipykernel)",
   "language": "python",
   "name": "python3"
  },
  "language_info": {
   "codemirror_mode": {
    "name": "ipython",
    "version": 3
   },
   "file_extension": ".py",
   "mimetype": "text/x-python",
   "name": "python",
   "nbconvert_exporter": "python",
   "pygments_lexer": "ipython3",
   "version": "3.12.4"
  }
 },
 "nbformat": 4,
 "nbformat_minor": 5
}
