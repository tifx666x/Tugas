{
 "cells": [
  {
   "cell_type": "code",
   "execution_count": null,
   "id": "1fbcf68d-f299-4161-b82e-062e834a61db",
   "metadata": {},
   "outputs": [],
   "source": [
    "#SISI SERVER API\n",
    "#Latihan Dasar Fast API"
   ]
  },
  {
   "cell_type": "code",
   "execution_count": 1,
   "id": "76ba2981-a6a1-4bf1-a799-0f6c0cc9a545",
   "metadata": {},
   "outputs": [],
   "source": [
    "#Jalankan FAST_API dengan mode loop sehingga bisa menservis terus menerus\n",
    "import nest_asyncio\n",
    "nest_asyncio.apply()"
   ]
  },
  {
   "cell_type": "code",
   "execution_count": null,
   "id": "499c3d53-142c-41a2-80c2-4ccb786af4bf",
   "metadata": {},
   "outputs": [],
   "source": [
    "#3. Bagian utama dari FAST-API \n",
    "from fastapi import FastAPI\n",
    "import uvicorn\n",
    "# Buat instance dari FastAPI\n",
    "app = FastAPI()\n",
    "# Buat endpoint sederhana (diakses tanpa parameter)\n",
    "@app.get(\"/\")\n",
    "def read_root():\n",
    "    return {\"message\": \"Hello, FastAPI dari planet Jupyter!\"}\n",
    "# Tambah endpoint dengan parameter : /items/1 (atau 2 atau 3)\n",
    "@app.get(\"/items/{item_id}\")\n",
    "def read_item(item_id: int, q: str = None):\n",
    "    if item_id==1:\n",
    "        q='Jeruk'\n",
    "    if item_id==2:\n",
    "        q='Mangga'\n",
    "    if item_id==3:\n",
    "        q='Durian'\n",
    "    return {\"item_id\": item_id, \"q\": q}\n",
    "\n",
    "# Jalankan server FastAPI menggunakan Uvicorn\n",
    "if __name__ == \"__main__\":\n",
    "    uvicorn.run(app, host=\"127.0.0.1\", port=8000)"
   ]
  },
  {
   "cell_type": "code",
   "execution_count": null,
   "id": "dbf786c1-f563-46fc-a4f4-ecdc99306003",
   "metadata": {},
   "outputs": [],
   "source": []
  }
 ],
 "metadata": {
  "kernelspec": {
   "display_name": "Python 3 (ipykernel)",
   "language": "python",
   "name": "python3"
  },
  "language_info": {
   "codemirror_mode": {
    "name": "ipython",
    "version": 3
   },
   "file_extension": ".py",
   "mimetype": "text/x-python",
   "name": "python",
   "nbconvert_exporter": "python",
   "pygments_lexer": "ipython3",
   "version": "3.12.4"
  }
 },
 "nbformat": 4,
 "nbformat_minor": 5
}
