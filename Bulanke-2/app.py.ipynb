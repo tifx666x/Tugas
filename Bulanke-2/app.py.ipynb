{
 "cells": [
  {
   "cell_type": "code",
   "execution_count": 7,
   "id": "e74ba858-d4df-4961-8ccc-448925840e9d",
   "metadata": {},
   "outputs": [],
   "source": [
    "from fastapi import FastAPI, HTTPException\n",
    "from pydantic import BaseModel\n",
    "import model  # Pastikan model.py memiliki fungsi yang dibutuhkan\n",
    "import database  # Pastikan database.py memiliki fungsi yang dibutuhkan\n",
    "import requests\n",
    "\n",
    "app = FastAPI()\n",
    "\n",
    "class PropertyInput(BaseModel):\n",
    "    bedrooms: int\n",
    "    bathrooms: int\n",
    "    sqft: float\n",
    "    location: str\n",
    "\n",
    "@app.post(\"/predict\")\n",
    "def predict_price(property: PropertyInput):\n",
    "    try:\n",
    "        # Ambil data dari API publik\n",
    "        response = requests.get(\"https://randomuser.me/api/\")\n",
    "        response.raise_for_status()  # Memastikan bahwa ada respon yang valid\n",
    "        user_data = response.json()\n",
    "        user_id = user_data['results'][0]['login']['uuid']\n",
    "    except requests.exceptions.RequestException as e:\n",
    "        raise HTTPException(status_code=500, detail=f\"Error fetching user data: {e}\")\n",
    "    \n",
    "    try:\n",
    "        # Prediksi harga rumah\n",
    "        predicted_price = model.predict(property.bedrooms, property.bathrooms, property.sqft, property.location)\n",
    "    except Exception as e:\n",
    "        raise HTTPException(status_code=500, detail=f\"Error in price prediction: {e}\")\n",
    "\n",
    "    try:\n",
    "        # Simpan data ke MongoDB\n",
    "        database.save_to_db(user_id, property.dict(), predicted_price)\n",
    "    except Exception as e:\n",
    "        raise HTTPException(status_code=500, detail=f\"Error saving data to the database: {e}\")\n",
    "\n",
    "    return {\"user_id\": user_id, \"predicted_price\": predicted_price}\n",
    "\n",
    "@app.get(\"/stats\")\n",
    "def get_stats():\n",
    "    try:\n",
    "        # Ambil statistik dari dataset\n",
    "        stats = model.get_statistics()\n",
    "    except Exception as e:\n",
    "        raise HTTPException(status_code=500, detail=f\"Error fetching statistics: {e}\")\n",
    "\n",
    "    return stats"
   ]
  },
  {
   "cell_type": "code",
   "execution_count": 15,
   "id": "b4968243-1c70-4e11-9caf-21e256956803",
   "metadata": {},
   "outputs": [
    {
     "ename": "ModuleNotFoundError",
     "evalue": "No module named 'model'",
     "output_type": "error",
     "traceback": [
      "\u001b[1;31m---------------------------------------------------------------------------\u001b[0m",
      "\u001b[1;31mModuleNotFoundError\u001b[0m                       Traceback (most recent call last)",
      "Cell \u001b[1;32mIn[15], line 4\u001b[0m\n\u001b[0;32m      2\u001b[0m \u001b[38;5;28;01mfrom\u001b[39;00m \u001b[38;5;21;01mpydantic\u001b[39;00m \u001b[38;5;28;01mimport\u001b[39;00m BaseModel\n\u001b[0;32m      3\u001b[0m \u001b[38;5;28;01mfrom\u001b[39;00m \u001b[38;5;21;01mdatetime\u001b[39;00m \u001b[38;5;28;01mimport\u001b[39;00m datetime\n\u001b[1;32m----> 4\u001b[0m \u001b[38;5;28;01mimport\u001b[39;00m \u001b[38;5;21;01mmodel\u001b[39;00m\n\u001b[0;32m      5\u001b[0m \u001b[38;5;28;01mimport\u001b[39;00m \u001b[38;5;21;01mdatabase\u001b[39;00m\n\u001b[0;32m      6\u001b[0m \u001b[38;5;28;01mimport\u001b[39;00m \u001b[38;5;21;01mrequests\u001b[39;00m\n",
      "\u001b[1;31mModuleNotFoundError\u001b[0m: No module named 'model'"
     ]
    }
   ],
   "source": [
    "from fastapi import FastAPI, HTTPException\n",
    "from pydantic import BaseModel\n",
    "from datetime import datetime\n",
    "import model\n",
    "import database\n",
    "import requests\n",
    "\n",
    "app = FastAPI()\n",
    "\n",
    "class PropertyInput(BaseModel):\n",
    "    bedrooms: int\n",
    "    bathrooms: int\n",
    "    sqft: float\n",
    "    location: str\n",
    "\n",
    "@app.post(\"/predict\")\n",
    "def predict_price(property: PropertyInput):\n",
    "    try:\n",
    "        # Ambil data dari API publik\n",
    "        response = requests.get(\"https://randomuser.me/api/\")\n",
    "        response.raise_for_status()\n",
    "        user_data = response.json()\n",
    "        user_id = user_data['results'][0]['login']['uuid']\n",
    "    except requests.exceptions.RequestException as e:\n",
    "        raise HTTPException(status_code=500, detail=f\"Error fetching user data: {e}\")\n",
    "    \n",
    "    try:\n",
    "        # Prediksi harga rumah menggunakan model machine learning\n",
    "        predicted_price = model.predict(property.bedrooms, property.bathrooms, property.sqft, property.location)\n",
    "    except Exception as e:\n",
    "        raise HTTPException(status_code=500, detail=f\"Error in price prediction: {e}\")\n",
    "    \n",
    "    try:\n",
    "        # Simpan data pengguna dan prediksi ke MongoDB\n",
    "        access_time = datetime.utcnow()\n",
    "        database.save_to_db(user_id, access_time, property.dict(), predicted_price)\n",
    "    except Exception as e:\n",
    "        raise HTTPException(status_code=500, detail=f\"Error saving data to the database: {e}\")\n",
    "\n",
    "    return {\"user_id\": user_id, \"predicted_price\": predicted_price}\n",
    "\n",
    "@app.get(\"/stats\")\n",
    "def get_stats():\n",
    "    try:\n",
    "        # Ambil statistik dari model atau dataset\n",
    "        stats = model.get_statistics()\n",
    "    except Exception as e:\n",
    "        raise HTTPException(status_code=500, detail=f\"Error fetching statistics: {e}\")\n",
    "\n",
    "    return stats"
   ]
  },
  {
   "cell_type": "code",
   "execution_count": 10,
   "id": "71cca040-f1bb-49f0-8f4e-de02bfd6a98a",
   "metadata": {},
   "outputs": [
    {
     "ename": "SyntaxError",
     "evalue": "incomplete input (1731325596.py, line 36)",
     "output_type": "error",
     "traceback": [
      "\u001b[1;36m  Cell \u001b[1;32mIn[10], line 36\u001b[1;36m\u001b[0m\n\u001b[1;33m    predicted_price = model.predict(features_scaled)[0\u001b[0m\n\u001b[1;37m                                                      ^\u001b[0m\n\u001b[1;31mSyntaxError\u001b[0m\u001b[1;31m:\u001b[0m incomplete input\n"
     ]
    }
   ],
   "source": [
    "import numpy as np\n",
    "from sklearn.model_selection import train_test_split\n",
    "from sklearn.linear_model import LinearRegression\n",
    "from sklearn.preprocessing import StandardScaler\n",
    "import pandas as pd\n",
    "\n",
    "# Load dataset (California Housing atau dataset serupa)\n",
    "# Misalnya dataset California Housing tersedia sebagai 'california_housing.csv'\n",
    "data = pd.read_csv('california_housing.csv')\n",
    "\n",
    "# Preprocessing: Tangani nilai missing dan standarisasi\n",
    "data.fillna(data.mean(), inplace=True)\n",
    "X = data[['bedrooms', 'bathrooms', 'sqft', 'location_encoded']]  # Pastikan 'location' diencoding\n",
    "y = data['price']\n",
    "\n",
    "# Standarisasi data\n",
    "scaler = StandardScaler()\n",
    "X_scaled = scaler.fit_transform(X)\n",
    "\n",
    "# Pisahkan data menjadi pelatihan dan pengujian\n",
    "X_train, X_test, y_train, y_test = train_test_split(X_scaled, y, test_size=0.2, random_state=42)\n",
    "\n",
    "# Latih model Linear Regression\n",
    "model = LinearRegression()\n",
    "model.fit(X_train, y_train)\n",
    "\n",
    "def predict(bedrooms, bathrooms, sqft, location):\n",
    "    # Encoding fitur lokasi\n",
    "    location_encoded = encode_location(location)\n",
    "    \n",
    "    # Siapkan input untuk prediksi\n",
    "    features = np.array([[bedrooms, bathrooms, sqft, location_encoded]])\n",
    "    features_scaled = scaler.transform(features)\n",
    "    \n",
    "    # Prediksi harga rumah\n",
    "    predicted_price = model.predict(features_scaled)[0"
   ]
  },
  {
   "cell_type": "code",
   "execution_count": 16,
   "id": "0cb1295e-87e5-4141-89f3-ba538523bfa2",
   "metadata": {},
   "outputs": [
    {
     "name": "stdout",
     "output_type": "stream",
     "text": [
      "['C:\\\\Users\\\\Pixiedust\\\\Documents\\\\MSIB\\\\MuhamadNurlatif_MSIB_TIA\\\\Latihan\\\\Bulan ke-2', 'C:\\\\ProgramData\\\\anaconda3\\\\python312.zip', 'C:\\\\ProgramData\\\\anaconda3\\\\DLLs', 'C:\\\\ProgramData\\\\anaconda3\\\\Lib', 'C:\\\\ProgramData\\\\anaconda3', '', 'C:\\\\Users\\\\Pixiedust\\\\AppData\\\\Roaming\\\\Python\\\\Python312\\\\site-packages', 'C:\\\\ProgramData\\\\anaconda3\\\\Lib\\\\site-packages', 'C:\\\\ProgramData\\\\anaconda3\\\\Lib\\\\site-packages\\\\win32', 'C:\\\\ProgramData\\\\anaconda3\\\\Lib\\\\site-packages\\\\win32\\\\lib', 'C:\\\\ProgramData\\\\anaconda3\\\\Lib\\\\site-packages\\\\Pythonwin']\n"
     ]
    }
   ],
   "source": []
  },
  {
   "cell_type": "code",
   "execution_count": null,
   "id": "3de5f095-284d-4fd2-a6b3-c1b297641a1e",
   "metadata": {},
   "outputs": [],
   "source": []
  }
 ],
 "metadata": {
  "kernelspec": {
   "display_name": "Python 3 (ipykernel)",
   "language": "python",
   "name": "python3"
  },
  "language_info": {
   "codemirror_mode": {
    "name": "ipython",
    "version": 3
   },
   "file_extension": ".py",
   "mimetype": "text/x-python",
   "name": "python",
   "nbconvert_exporter": "python",
   "pygments_lexer": "ipython3",
   "version": "3.12.4"
  }
 },
 "nbformat": 4,
 "nbformat_minor": 5
}
