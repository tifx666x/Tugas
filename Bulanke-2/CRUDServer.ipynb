{
 "cells": [
  {
   "cell_type": "code",
   "execution_count": null,
   "id": "b8639a54-11dd-4a94-8e8d-d114e143a29a",
   "metadata": {},
   "outputs": [],
   "source": [
    "#LATIHAN DASAR FAST - API\n",
    "#1. Instalasi Paket yang Dibutuhkan\n",
    "#Pastikan Anda telah menginstal FastAPI dan Uvicorn untuk menjalankan server FastAPI. \n",
    "#Jika belum, kerjakan perintah instalasi berikut di sel Jupyter Notebook:\n",
    "\n",
    "!pip install fastapi uvicorn nest_asyncio"
   ]
  },
  {
   "cell_type": "code",
   "execution_count": 7,
   "id": "a2338530-3fa3-4a5d-910c-3035af66c5aa",
   "metadata": {},
   "outputs": [],
   "source": [
    "#2. Jalankan FAST-API dengan mode Loop\n",
    "import nest_asyncio\n",
    "nest_asyncio.apply()"
   ]
  },
  {
   "cell_type": "code",
   "execution_count": null,
   "id": "38dd0a86-b88f-425a-ae3f-fcb78e0aa8c3",
   "metadata": {},
   "outputs": [],
   "source": [
    "#3. Bagian utama dari FAST-API \n",
    "from fastapi import FastAPI\n",
    "import uvicorn\n",
    "\n",
    "# Buat instance dari FastAPI\n",
    "app = FastAPI()\n",
    "\n",
    "# Buat endpoint sederhana (diakses tanpa parameter)\n",
    "@app.get(\"/\")\n",
    "def read_root():\n",
    "    return {\"message\": \"Hello, FastAPI dari planet Jupyter!\"}\n",
    "\n",
    "# Tambah endpoint dengan parameter : /items/1 (atau 2 atau 3)\n",
    "@app.get(\"/items/{item_id}\")\n",
    "def read_item(item_id: int, q: str = None):\n",
    "    if item_id==1:\n",
    "        q='Jeruk'\n",
    "    if item_id==2:\n",
    "        q='Mangga'\n",
    "    if item_id==3:\n",
    "        q='Durian'\n",
    "    return {\"item_id\": item_id, \"q\": q}\n",
    "\n",
    "# Jalankan server FastAPI menggunakan Uvicorn\n",
    "if __name__ == \"__main__\":\n",
    "    uvicorn.run(app, host=\"127.0.0.1\", port=8000)\n"
   ]
  },
  {
   "cell_type": "code",
   "execution_count": null,
   "id": "de61504a-53f2-41ae-a47d-860133f8cb34",
   "metadata": {},
   "outputs": [],
   "source": [
    "#MEMBUAT FAST API untuk  CRUD"
   ]
  },
  {
   "cell_type": "code",
   "execution_count": 1,
   "id": "202b5033-fefd-4ed7-ba6f-58c3d3e50c6b",
   "metadata": {},
   "outputs": [],
   "source": [
    "import nest_asyncio\n",
    "nest_asyncio.apply()\n"
   ]
  },
  {
   "cell_type": "code",
   "execution_count": null,
   "id": "f08e09b0-ffc7-42a7-8a20-599d10ec69b8",
   "metadata": {
    "scrolled": true
   },
   "outputs": [],
   "source": [
    "#1. Membuat Struktur Data\n",
    "#Produk akan disimpan dalam dictionary dengan ID produk sebagai kuncinya.\n",
    "from fastapi import FastAPI, HTTPException\n",
    "from pydantic import BaseModel\n",
    "import uvicorn\n",
    "\n",
    "# Inisialisasi aplikasi FastAPI\n",
    "app = FastAPI()\n",
    "\n",
    "# Simpan data produk dalam memori menggunakan dictionary\n",
    "fake_products_db = {\n",
    "    1: {\"name\": \"Laptop\", \"price\": 15000, \"description\": \"Laptop gaming high-end\"},\n",
    "    2: {\"name\": \"Smartphone\", \"price\": 7000, \"description\": \"Smartphone terbaru dengan kamera bagus\"},\n",
    "}\n",
    "\n",
    "# Model Pydantic untuk validasi input\n",
    "class Product(BaseModel):\n",
    "    name: str\n",
    "    price: float\n",
    "    description: str = None\n",
    "\n",
    "#Bagian untuk menambahkan data produk baru\n",
    "@app.post(\"/products/\")\n",
    "def create_product(product: Product):\n",
    "    new_id = max(fake_products_db.keys()) + 1\n",
    "    fake_products_db[new_id] = product.dict()\n",
    "    return {\"id\": new_id, \"product\": product}\n",
    "\n",
    "#Bagian untuk menampilkan daftar produk yang sudah ada\n",
    "@app.get(\"/products/\")\n",
    "def get_products():\n",
    "    return fake_products_db\n",
    "\n",
    "#bagian untuk menampilkan produk tertentu berdasarkan ID\n",
    "@app.get(\"/products/{product_id}\")\n",
    "def read_product(product_id: int):\n",
    "    product = fake_products_db.get(product_id)\n",
    "    if product is None:\n",
    "        raise HTTPException(status_code=404, detail=\"Product not found\")\n",
    "    return product\n",
    "\n",
    "#Bagian untuk memperbaiki data produk tertentu berdasarkan ID dan nama produknya\n",
    "@app.put(\"/products/{product_id}\")\n",
    "def update_product(product_id: int, product: Product):\n",
    "    if product_id not in fake_products_db:\n",
    "        raise HTTPException(status_code=404, detail=\"Product not found\")\n",
    "    fake_products_db[product_id] = product.dict()\n",
    "    return {\"id\": product_id, \"product\": product}\n",
    "\n",
    "#Bagian untuk menghapus data produk tertentu\n",
    "@app.delete(\"/products/{product_id}\")\n",
    "def delete_product(product_id: int):\n",
    "    if product_id not in fake_products_db:\n",
    "        raise HTTPException(status_code=404, detail=\"Product not found\")\n",
    "    del fake_products_db[product_id]\n",
    "    return {\"message\": f\"Product {product_id} deleted successfully\"}\n",
    "\n",
    "# Jalankan server FastAPI menggunakan Uvicorn\n",
    "if __name__ == \"__main__\":\n",
    "    uvicorn.run(app, host=\"127.0.0.1\", port=8000)"
   ]
  },
  {
   "cell_type": "code",
   "execution_count": null,
   "id": "6063e8ec-764d-4d34-b829-4241fa2f2dd0",
   "metadata": {},
   "outputs": [
    {
     "name": "stderr",
     "output_type": "stream",
     "text": [
      "INFO:     Started server process [14400]\n",
      "INFO:     Waiting for application startup.\n",
      "INFO:     Application startup complete.\n",
      "INFO:     Uvicorn running on http://127.0.0.1:8000 (Press CTRL+C to quit)\n"
     ]
    },
    {
     "name": "stdout",
     "output_type": "stream",
     "text": [
      "INFO:     127.0.0.1:51299 - \"GET / HTTP/1.1\" 200 OK\n",
      "INFO:     127.0.0.1:51304 - \"GET / HTTP/1.1\" 200 OK\n"
     ]
    },
    {
     "name": "stderr",
     "output_type": "stream",
     "text": [
      "C:\\Users\\Pixiedust\\AppData\\Local\\Temp\\ipykernel_14400\\1537674343.py:36: PydanticDeprecatedSince20: The `dict` method is deprecated; use `model_dump` instead. Deprecated in Pydantic V2.0 to be removed in V3.0. See Pydantic V2 Migration Guide at https://errors.pydantic.dev/2.5/migration/\n",
      "  fake_customers_db[new_id] = customer.dict()\n",
      "Task exception was never retrieved\n",
      "future: <Task finished name='Task-1' coro=<Server.serve() done, defined at C:\\Users\\Pixiedust\\AppData\\Roaming\\Python\\Python312\\site-packages\\uvicorn\\server.py:67> exception=KeyboardInterrupt()>\n",
      "Traceback (most recent call last):\n",
      "  File \"C:\\Users\\Pixiedust\\AppData\\Roaming\\Python\\Python312\\site-packages\\uvicorn\\main.py\", line 579, in run\n",
      "    server.run()\n",
      "  File \"C:\\Users\\Pixiedust\\AppData\\Roaming\\Python\\Python312\\site-packages\\uvicorn\\server.py\", line 65, in run\n",
      "    return asyncio.run(self.serve(sockets=sockets))\n",
      "           ^^^^^^^^^^^^^^^^^^^^^^^^^^^^^^^^^^^^^^^^\n",
      "  File \"C:\\ProgramData\\anaconda3\\Lib\\site-packages\\nest_asyncio.py\", line 30, in run\n",
      "    return loop.run_until_complete(task)\n",
      "           ^^^^^^^^^^^^^^^^^^^^^^^^^^^^^\n",
      "  File \"C:\\ProgramData\\anaconda3\\Lib\\site-packages\\nest_asyncio.py\", line 92, in run_until_complete\n",
      "    self._run_once()\n",
      "  File \"C:\\ProgramData\\anaconda3\\Lib\\site-packages\\nest_asyncio.py\", line 133, in _run_once\n",
      "    handle._run()\n",
      "  File \"C:\\ProgramData\\anaconda3\\Lib\\asyncio\\events.py\", line 88, in _run\n",
      "    self._context.run(self._callback, *self._args)\n",
      "  File \"C:\\ProgramData\\anaconda3\\Lib\\asyncio\\tasks.py\", line 396, in __wakeup\n",
      "    self.__step()\n",
      "  File \"C:\\ProgramData\\anaconda3\\Lib\\asyncio\\tasks.py\", line 303, in __step\n",
      "    self.__step_run_and_handle_result(exc)\n",
      "  File \"C:\\ProgramData\\anaconda3\\Lib\\asyncio\\tasks.py\", line 314, in __step_run_and_handle_result\n",
      "    result = coro.send(None)\n",
      "             ^^^^^^^^^^^^^^^\n",
      "  File \"C:\\Users\\Pixiedust\\AppData\\Roaming\\Python\\Python312\\site-packages\\uvicorn\\server.py\", line 68, in serve\n",
      "    with self.capture_signals():\n",
      "  File \"C:\\ProgramData\\anaconda3\\Lib\\contextlib.py\", line 144, in __exit__\n",
      "    next(self.gen)\n",
      "  File \"C:\\Users\\Pixiedust\\AppData\\Roaming\\Python\\Python312\\site-packages\\uvicorn\\server.py\", line 328, in capture_signals\n",
      "    signal.raise_signal(captured_signal)\n",
      "KeyboardInterrupt\n"
     ]
    },
    {
     "name": "stdout",
     "output_type": "stream",
     "text": [
      "INFO:     127.0.0.1:51347 - \"POST /customers/ HTTP/1.1\" 200 OK\n",
      "INFO:     127.0.0.1:51357 - \"GET /customer/ HTTP/1.1\" 404 Not Found\n",
      "INFO:     127.0.0.1:51359 - \"GET /customers/ HTTP/1.1\" 200 OK\n",
      "INFO:     127.0.0.1:51361 - \"GET /customers/1 HTTP/1.1\" 200 OK\n",
      "INFO:     127.0.0.1:51374 - \"PUT /products/2 HTTP/1.1\" 404 Not Found\n",
      "INFO:     127.0.0.1:51376 - \"PUT /customers/2 HTTP/1.1\" 200 OK\n"
     ]
    },
    {
     "name": "stderr",
     "output_type": "stream",
     "text": [
      "C:\\Users\\Pixiedust\\AppData\\Local\\Temp\\ipykernel_14400\\1537674343.py:58: PydanticDeprecatedSince20: The `dict` method is deprecated; use `model_dump` instead. Deprecated in Pydantic V2.0 to be removed in V3.0. See Pydantic V2 Migration Guide at https://errors.pydantic.dev/2.5/migration/\n",
      "  fake_customers_db[customer_id] = customer.dict()\n"
     ]
    },
    {
     "name": "stdout",
     "output_type": "stream",
     "text": [
      "INFO:     127.0.0.1:51378 - \"GET /customers/ HTTP/1.1\" 200 OK\n",
      "INFO:     127.0.0.1:51381 - \"PUT /customers/2 HTTP/1.1\" 500 Internal Server Error\n"
     ]
    },
    {
     "name": "stderr",
     "output_type": "stream",
     "text": [
      "C:\\Users\\Pixiedust\\AppData\\Local\\Temp\\ipykernel_14400\\1537674343.py:58: PydanticDeprecatedSince20: The `dict` method is deprecated; use `model_dump` instead. Deprecated in Pydantic V2.0 to be removed in V3.0. See Pydantic V2 Migration Guide at https://errors.pydantic.dev/2.5/migration/\n",
      "  fake_customers_db[customer_id] = customer.dict()\n",
      "ERROR:    Exception in ASGI application\n",
      "Traceback (most recent call last):\n",
      "  File \"C:\\Users\\Pixiedust\\AppData\\Roaming\\Python\\Python312\\site-packages\\uvicorn\\protocols\\http\\h11_impl.py\", line 406, in run_asgi\n",
      "    result = await app(  # type: ignore[func-returns-value]\n",
      "             ^^^^^^^^^^^^^^^^^^^^^^^^^^^^^^^^^^^^^^^^^^^^^^\n",
      "  File \"C:\\Users\\Pixiedust\\AppData\\Roaming\\Python\\Python312\\site-packages\\uvicorn\\middleware\\proxy_headers.py\", line 60, in __call__\n",
      "    return await self.app(scope, receive, send)\n",
      "           ^^^^^^^^^^^^^^^^^^^^^^^^^^^^^^^^^^^^\n",
      "  File \"C:\\Users\\Pixiedust\\AppData\\Roaming\\Python\\Python312\\site-packages\\fastapi\\applications.py\", line 1054, in __call__\n",
      "    await super().__call__(scope, receive, send)\n",
      "  File \"C:\\Users\\Pixiedust\\AppData\\Roaming\\Python\\Python312\\site-packages\\starlette\\applications.py\", line 113, in __call__\n",
      "    await self.middleware_stack(scope, receive, send)\n",
      "  File \"C:\\Users\\Pixiedust\\AppData\\Roaming\\Python\\Python312\\site-packages\\starlette\\middleware\\errors.py\", line 187, in __call__\n",
      "    raise exc\n",
      "  File \"C:\\Users\\Pixiedust\\AppData\\Roaming\\Python\\Python312\\site-packages\\starlette\\middleware\\errors.py\", line 165, in __call__\n",
      "    await self.app(scope, receive, _send)\n",
      "  File \"C:\\Users\\Pixiedust\\AppData\\Roaming\\Python\\Python312\\site-packages\\starlette\\middleware\\exceptions.py\", line 62, in __call__\n",
      "    await wrap_app_handling_exceptions(self.app, conn)(scope, receive, send)\n",
      "  File \"C:\\Users\\Pixiedust\\AppData\\Roaming\\Python\\Python312\\site-packages\\starlette\\_exception_handler.py\", line 62, in wrapped_app\n",
      "    raise exc\n",
      "  File \"C:\\Users\\Pixiedust\\AppData\\Roaming\\Python\\Python312\\site-packages\\starlette\\_exception_handler.py\", line 51, in wrapped_app\n",
      "    await app(scope, receive, sender)\n",
      "  File \"C:\\Users\\Pixiedust\\AppData\\Roaming\\Python\\Python312\\site-packages\\starlette\\routing.py\", line 715, in __call__\n",
      "    await self.middleware_stack(scope, receive, send)\n",
      "  File \"C:\\Users\\Pixiedust\\AppData\\Roaming\\Python\\Python312\\site-packages\\starlette\\routing.py\", line 735, in app\n",
      "    await route.handle(scope, receive, send)\n",
      "  File \"C:\\Users\\Pixiedust\\AppData\\Roaming\\Python\\Python312\\site-packages\\starlette\\routing.py\", line 288, in handle\n",
      "    await self.app(scope, receive, send)\n",
      "  File \"C:\\Users\\Pixiedust\\AppData\\Roaming\\Python\\Python312\\site-packages\\starlette\\routing.py\", line 76, in app\n",
      "    await wrap_app_handling_exceptions(app, request)(scope, receive, send)\n",
      "  File \"C:\\Users\\Pixiedust\\AppData\\Roaming\\Python\\Python312\\site-packages\\starlette\\_exception_handler.py\", line 62, in wrapped_app\n",
      "    raise exc\n",
      "  File \"C:\\Users\\Pixiedust\\AppData\\Roaming\\Python\\Python312\\site-packages\\starlette\\_exception_handler.py\", line 51, in wrapped_app\n",
      "    await app(scope, receive, sender)\n",
      "  File \"C:\\Users\\Pixiedust\\AppData\\Roaming\\Python\\Python312\\site-packages\\starlette\\routing.py\", line 73, in app\n",
      "    response = await f(request)\n",
      "               ^^^^^^^^^^^^^^^^\n",
      "  File \"C:\\Users\\Pixiedust\\AppData\\Roaming\\Python\\Python312\\site-packages\\fastapi\\routing.py\", line 301, in app\n",
      "    raw_response = await run_endpoint_function(\n",
      "                   ^^^^^^^^^^^^^^^^^^^^^^^^^^^^\n",
      "  File \"C:\\Users\\Pixiedust\\AppData\\Roaming\\Python\\Python312\\site-packages\\fastapi\\routing.py\", line 214, in run_endpoint_function\n",
      "    return await run_in_threadpool(dependant.call, **values)\n",
      "           ^^^^^^^^^^^^^^^^^^^^^^^^^^^^^^^^^^^^^^^^^^^^^^^^^\n",
      "  File \"C:\\Users\\Pixiedust\\AppData\\Roaming\\Python\\Python312\\site-packages\\starlette\\concurrency.py\", line 39, in run_in_threadpool\n",
      "    return await anyio.to_thread.run_sync(func, *args)\n",
      "           ^^^^^^^^^^^^^^^^^^^^^^^^^^^^^^^^^^^^^^^^^^^\n",
      "  File \"C:\\ProgramData\\anaconda3\\Lib\\site-packages\\anyio\\to_thread.py\", line 56, in run_sync\n",
      "    return await get_async_backend().run_sync_in_worker_thread(\n",
      "           ^^^^^^^^^^^^^^^^^^^^^^^^^^^^^^^^^^^^^^^^^^^^^^^^^^^^\n",
      "  File \"C:\\ProgramData\\anaconda3\\Lib\\site-packages\\anyio\\_backends\\_asyncio.py\", line 2134, in run_sync_in_worker_thread\n",
      "    return await future\n",
      "           ^^^^^^^^^^^^\n",
      "  File \"C:\\ProgramData\\anaconda3\\Lib\\asyncio\\futures.py\", line 287, in __await__\n",
      "    yield self  # This tells Task to wait for completion.\n",
      "    ^^^^^^^^^^\n",
      "  File \"C:\\ProgramData\\anaconda3\\Lib\\asyncio\\tasks.py\", line 385, in __wakeup\n",
      "    future.result()\n",
      "  File \"C:\\ProgramData\\anaconda3\\Lib\\asyncio\\futures.py\", line 203, in result\n",
      "    raise self._exception.with_traceback(self._exception_tb)\n",
      "  File \"C:\\ProgramData\\anaconda3\\Lib\\site-packages\\anyio\\_backends\\_asyncio.py\", line 851, in run\n",
      "    result = context.run(func, *args)\n",
      "             ^^^^^^^^^^^^^^^^^^^^^^^^\n",
      "  File \"C:\\Users\\Pixiedust\\AppData\\Local\\Temp\\ipykernel_14400\\1537674343.py\", line 59, in update_customer\n",
      "    save_to_excel()  # Simpan ke Excel setelah memperbarui data\n",
      "    ^^^^^^^^^^^^^^^\n",
      "  File \"C:\\Users\\Pixiedust\\AppData\\Local\\Temp\\ipykernel_14400\\1537674343.py\", line 25, in save_to_excel\n",
      "    df.to_excel(\"customers_data.xlsx\", index_label=\"id\")\n",
      "  File \"C:\\ProgramData\\anaconda3\\Lib\\site-packages\\pandas\\util\\_decorators.py\", line 333, in wrapper\n",
      "    return func(*args, **kwargs)\n",
      "           ^^^^^^^^^^^^^^^^^^^^^\n",
      "  File \"C:\\ProgramData\\anaconda3\\Lib\\site-packages\\pandas\\core\\generic.py\", line 2417, in to_excel\n",
      "    formatter.write(\n",
      "  File \"C:\\ProgramData\\anaconda3\\Lib\\site-packages\\pandas\\io\\formats\\excel.py\", line 943, in write\n",
      "    writer = ExcelWriter(\n",
      "             ^^^^^^^^^^^^\n",
      "  File \"C:\\ProgramData\\anaconda3\\Lib\\site-packages\\pandas\\io\\excel\\_openpyxl.py\", line 61, in __init__\n",
      "    super().__init__(\n",
      "  File \"C:\\ProgramData\\anaconda3\\Lib\\site-packages\\pandas\\io\\excel\\_base.py\", line 1246, in __init__\n",
      "    self._handles = get_handle(\n",
      "                    ^^^^^^^^^^^\n",
      "  File \"C:\\ProgramData\\anaconda3\\Lib\\site-packages\\pandas\\io\\common.py\", line 882, in get_handle\n",
      "    handle = open(handle, ioargs.mode)\n",
      "             ^^^^^^^^^^^^^^^^^^^^^^^^^\n",
      "PermissionError: [Errno 13] Permission denied: 'customers_data.xlsx'\n"
     ]
    },
    {
     "name": "stdout",
     "output_type": "stream",
     "text": [
      "INFO:     127.0.0.1:51386 - \"PUT /customers/2 HTTP/1.1\" 200 OK\n"
     ]
    },
    {
     "name": "stderr",
     "output_type": "stream",
     "text": [
      "C:\\Users\\Pixiedust\\AppData\\Local\\Temp\\ipykernel_14400\\1537674343.py:58: PydanticDeprecatedSince20: The `dict` method is deprecated; use `model_dump` instead. Deprecated in Pydantic V2.0 to be removed in V3.0. See Pydantic V2 Migration Guide at https://errors.pydantic.dev/2.5/migration/\n",
      "  fake_customers_db[customer_id] = customer.dict()\n"
     ]
    },
    {
     "name": "stdout",
     "output_type": "stream",
     "text": [
      "INFO:     127.0.0.1:51387 - \"GET /customers/ HTTP/1.1\" 200 OK\n",
      "INFO:     127.0.0.1:51390 - \"PUT /customers/2 HTTP/1.1\" 200 OK\n"
     ]
    },
    {
     "name": "stderr",
     "output_type": "stream",
     "text": [
      "C:\\Users\\Pixiedust\\AppData\\Local\\Temp\\ipykernel_14400\\1537674343.py:58: PydanticDeprecatedSince20: The `dict` method is deprecated; use `model_dump` instead. Deprecated in Pydantic V2.0 to be removed in V3.0. See Pydantic V2 Migration Guide at https://errors.pydantic.dev/2.5/migration/\n",
      "  fake_customers_db[customer_id] = customer.dict()\n"
     ]
    },
    {
     "name": "stdout",
     "output_type": "stream",
     "text": [
      "INFO:     127.0.0.1:51405 - \"DELETE /customers/1 HTTP/1.1\" 200 OK\n",
      "INFO:     127.0.0.1:51406 - \"GET /customers/ HTTP/1.1\" 200 OK\n",
      "INFO:     127.0.0.1:51412 - \"POST /customers/ HTTP/1.1\" 200 OK\n"
     ]
    },
    {
     "name": "stderr",
     "output_type": "stream",
     "text": [
      "C:\\Users\\Pixiedust\\AppData\\Local\\Temp\\ipykernel_14400\\1537674343.py:36: PydanticDeprecatedSince20: The `dict` method is deprecated; use `model_dump` instead. Deprecated in Pydantic V2.0 to be removed in V3.0. See Pydantic V2 Migration Guide at https://errors.pydantic.dev/2.5/migration/\n",
      "  fake_customers_db[new_id] = customer.dict()\n"
     ]
    },
    {
     "name": "stdout",
     "output_type": "stream",
     "text": [
      "INFO:     127.0.0.1:51413 - \"GET /customers/ HTTP/1.1\" 200 OK\n",
      "INFO:     127.0.0.1:51416 - \"GET /customers/1 HTTP/1.1\" 404 Not Found\n",
      "INFO:     127.0.0.1:51417 - \"GET /customers/2 HTTP/1.1\" 200 OK\n"
     ]
    }
   ],
   "source": [
    "from fastapi import FastAPI, HTTPException\n",
    "from pydantic import BaseModel\n",
    "import pandas as pd\n",
    "import uvicorn\n",
    "\n",
    "# Inisialisasi aplikasi FastAPI\n",
    "app = FastAPI()\n",
    "\n",
    "# Simpan data customer dalam memori menggunakan dictionary\n",
    "fake_customers_db = {\n",
    "    1: {\"name\": \"John Doe\", \"address\": \"123 Street\", \"phone\": \"081234567890\", \"age\": 30},\n",
    "    2: {\"name\": \"Jane Doe\", \"address\": \"456 Avenue\", \"phone\": \"081234567891\", \"age\": 25},\n",
    "}\n",
    "\n",
    "# Model Pydantic untuk validasi input\n",
    "class Customer(BaseModel):\n",
    "    name: str\n",
    "    address: str\n",
    "    phone: str\n",
    "    age: int\n",
    "\n",
    "# Fungsi untuk menyimpan database ke file Excel\n",
    "def save_to_excel():\n",
    "    df = pd.DataFrame.from_dict(fake_customers_db, orient='index')\n",
    "    df.to_excel(\"customers_data.xlsx\", index_label=\"id\")\n",
    "\n",
    "# Rute dasar\n",
    "@app.get(\"/\")\n",
    "def read_root():\n",
    "    return {\"message\": \"Welcome to the Customer API\"}\n",
    "\n",
    "# Bagian untuk menambahkan data customer baru\n",
    "@app.post(\"/customers/\")\n",
    "def create_customer(customer: Customer):\n",
    "    new_id = max(fake_customers_db.keys()) + 1\n",
    "    fake_customers_db[new_id] = customer.dict()\n",
    "    save_to_excel()  # Simpan ke Excel setelah menambah data\n",
    "    return {\"id\": new_id, \"customer\": customer}\n",
    "\n",
    "# Bagian untuk menampilkan daftar customer yang sudah ada\n",
    "@app.get(\"/customers/\")\n",
    "def get_customers():\n",
    "    return fake_customers_db\n",
    "\n",
    "# Bagian untuk menampilkan customer tertentu berdasarkan ID\n",
    "@app.get(\"/customers/{customer_id}\")\n",
    "def read_customer(customer_id: int):\n",
    "    customer = fake_customers_db.get(customer_id)\n",
    "    if customer is None:\n",
    "        raise HTTPException(status_code=404, detail=\"Customer not found\")\n",
    "    return customer\n",
    "\n",
    "# Bagian untuk memperbaiki data customer tertentu berdasarkan ID\n",
    "@app.put(\"/customers/{customer_id}\")\n",
    "def update_customer(customer_id: int, customer: Customer):\n",
    "    if customer_id not in fake_customers_db:\n",
    "        raise HTTPException(status_code=404, detail=\"Customer not found\")\n",
    "    fake_customers_db[customer_id] = customer.dict()\n",
    "    save_to_excel()  # Simpan ke Excel setelah memperbarui data\n",
    "    return {\"id\": customer_id, \"customer\": customer}\n",
    "\n",
    "# Bagian untuk menghapus data customer tertentu\n",
    "@app.delete(\"/customers/{customer_id}\")\n",
    "def delete_customer(customer_id: int):\n",
    "    if customer_id not in fake_customers_db:\n",
    "        raise HTTPException(status_code=404, detail=\"Customer not found\")\n",
    "    del fake_customers_db[customer_id]\n",
    "    save_to_excel()  # Simpan ke Excel setelah menghapus data\n",
    "    return {\"message\": f\"Customer {customer_id} deleted successfully\"}\n",
    "\n",
    "# Jalankan server FastAPI menggunakan Uvicorn\n",
    "if __name__ == \"__main__\":\n",
    "    uvicorn.run(app, host=\"127.0.0.1\", port=8000)"
   ]
  },
  {
   "cell_type": "code",
   "execution_count": null,
   "id": "184bee58-f029-473f-8683-19711d680e04",
   "metadata": {},
   "outputs": [],
   "source": []
  }
 ],
 "metadata": {
  "kernelspec": {
   "display_name": "Python 3 (ipykernel)",
   "language": "python",
   "name": "python3"
  },
  "language_info": {
   "codemirror_mode": {
    "name": "ipython",
    "version": 3
   },
   "file_extension": ".py",
   "mimetype": "text/x-python",
   "name": "python",
   "nbconvert_exporter": "python",
   "pygments_lexer": "ipython3",
   "version": "3.12.4"
  }
 },
 "nbformat": 4,
 "nbformat_minor": 5
}
