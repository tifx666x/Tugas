{
 "cells": [
  {
   "cell_type": "code",
   "execution_count": 24,
   "id": "4f3d20e6-af49-4f2b-9c40-914449e08f54",
   "metadata": {},
   "outputs": [
    {
     "name": "stdout",
     "output_type": "stream",
     "text": [
      "{'message': 'Welcome to the Customer API'}\n"
     ]
    }
   ],
   "source": [
    "import requests\n",
    "\n",
    "response = requests.get(\"http://127.0.0.1:8000/\")\n",
    "print(response.json())\n"
   ]
  },
  {
   "cell_type": "code",
   "execution_count": 39,
   "id": "a6c03c75-fe3e-4a94-b39e-7d1490e1cb67",
   "metadata": {},
   "outputs": [
    {
     "name": "stdout",
     "output_type": "stream",
     "text": [
      "{'id': 4, 'customer': {'name': 'Indra Darmawan', 'address': 'Bandung', 'phone': '0892387234', 'age': 19}}\n"
     ]
    }
   ],
   "source": [
    "import requests\n",
    "\n",
    "new_customer = {\n",
    "    \"name\": \"Indra Darmawan\",\n",
    "    \"address\": \"Bandung\",\n",
    "    \"phone\": \"0892387234\",\n",
    "    \"age\": 19\n",
    "}\n",
    "\n",
    "response = requests.post(\"http://127.0.0.1:8000/customers/\", json=new_customer)\n",
    "print(response.json())"
   ]
  },
  {
   "cell_type": "code",
   "execution_count": 40,
   "id": "5d749fab-5d3f-46f7-9f37-b2d076d64ca1",
   "metadata": {},
   "outputs": [
    {
     "name": "stdout",
     "output_type": "stream",
     "text": [
      "{'2': {'name': 'Yusuf Mahardika', 'address': 'Batam', 'phone': '0821372149', 'age': 21}, '3': {'name': 'Ahmad Riziq', 'address': 'Jakarta', 'phone': '0892312634', 'age': 19}, '4': {'name': 'Indra Darmawan', 'address': 'Bandung', 'phone': '0892387234', 'age': 19}}\n"
     ]
    }
   ],
   "source": [
    "response = requests.get(\"http://127.0.0.1:8000/customers/\")\n",
    "print(response.json())\n"
   ]
  },
  {
   "cell_type": "code",
   "execution_count": 42,
   "id": "f2d98834-3e4f-4d6c-b31d-9158ae35de68",
   "metadata": {},
   "outputs": [
    {
     "name": "stdout",
     "output_type": "stream",
     "text": [
      "{'name': 'Yusuf Mahardika', 'address': 'Batam', 'phone': '0821372149', 'age': 21}\n"
     ]
    }
   ],
   "source": [
    "response = requests.get(\"http://127.0.0.1:8000/customers/2\")\n",
    "print(response.json())\n"
   ]
  },
  {
   "cell_type": "code",
   "execution_count": 36,
   "id": "e2ab0405-545a-49a0-bb5e-c0c48994e918",
   "metadata": {},
   "outputs": [
    {
     "name": "stdout",
     "output_type": "stream",
     "text": [
      "{'id': 2, 'customer': {'name': 'Yusuf Mahardika', 'address': 'Batam', 'phone': '0821372149', 'age': 21}}\n"
     ]
    }
   ],
   "source": [
    "updated_customer = {\n",
    "    \"name\": \"Yusuf Mahardika\",\n",
    "    \"address\": \"Batam\",\n",
    "    \"phone\": \"0821372149\",\n",
    "    \"age\": 21\n",
    "}\n",
    "\n",
    "response = requests.put(\"http://127.0.0.1:8000/customers/2\", json=updated_customer)\n",
    "print(response.json())\n"
   ]
  },
  {
   "cell_type": "code",
   "execution_count": 37,
   "id": "14e49b91-752c-4e94-9537-269cc2cb0774",
   "metadata": {},
   "outputs": [
    {
     "name": "stdout",
     "output_type": "stream",
     "text": [
      "{'message': 'Customer 1 deleted successfully'}\n"
     ]
    }
   ],
   "source": [
    "response = requests.delete(\"http://127.0.0.1:8000/customers/1\")\n",
    "print(response.json())\n"
   ]
  },
  {
   "cell_type": "code",
   "execution_count": 11,
   "id": "dd0706ba-3a80-46af-9033-3520220982f1",
   "metadata": {},
   "outputs": [
    {
     "name": "stdout",
     "output_type": "stream",
     "text": [
      "Cuaca di Pekanbaru:\n",
      "Suhu: 30.69 °C\n",
      "Deskripsi: light rain\n"
     ]
    }
   ],
   "source": [
    "import requests\n",
    "url = \"https://api.openweathermap.org/data/2.5/weather\"\n",
    "params = { \"q\": \"Pekanbaru\",\n",
    "          \"appid\" :\"4ef69fba7564b91690973fea801de501\",\n",
    "          \"units\":\"metric\"\n",
    "}\n",
    "\n",
    "response = requests.get(url,params=params)\n",
    "\n",
    "if response.status_code == 200:\n",
    "    data = response.json()\n",
    "    city = data[\"name\"]\n",
    "    temp = data[\"main\"][\"temp\"]\n",
    "    desc = data[\"weather\"][0][\"description\"]\n",
    "    print (f\"Cuaca di {city}:\")\n",
    "    print (f\"Suhu: {temp} °C\")\n",
    "    print (f\"Deskripsi: {desc}\")\n",
    "\n",
    "else:\n",
    "    print(\"Terjadi kesalahan saat mengakses API.\")"
   ]
  },
  {
   "cell_type": "code",
   "execution_count": 21,
   "id": "883cff59-6345-43e8-8437-cdf98abcae7d",
   "metadata": {},
   "outputs": [
    {
     "name": "stdout",
     "output_type": "stream",
     "text": [
      "1. Title: Bagaimana penggunaan bahasa slang di TikTok mempengaruhi penggunaan bahasa Indonesia di sekolah\n",
      "   Source: Ablogtoread.com\n",
      "   URL: https://ablogtoread.com/bagaimana-penggunaan-bahasa-slang-di-tiktok-mempengaruhi-penggunaan-bahasa-indonesia-di-sekolah/\n",
      "--------------------------------------------------\n",
      "2. Title: Apakah penggunaan bahasa slang di TikTok dapat mempengaruhi pilihan kata dalam bahasa Indonesia\n",
      "   Source: Ablogtoread.com\n",
      "   URL: https://ablogtoread.com/apakah-penggunaan-bahasa-slang-di-tiktok-dapat-mempengaruhi-pilihan-kata-dalam-bahasa-indonesia/\n",
      "--------------------------------------------------\n",
      "3. Title: MG5 akan dilancar di Malaysia 3 Oktober ini – 1.5L NA\n",
      "   Source: Paul Tan's Automotive News\n",
      "   URL: https://paultan.org/2024/10/01/mg5-akan-dilancar-di-malaysia-3-oktober-ini-1-5l-na/\n",
      "--------------------------------------------------\n",
      "4. Title: JORGE MARTIN SALUTA E SE NE VA – NEL GP DELL’INDONESIA DEL MOTOMONDIALE, LO SPAGNOLO DELLA DUCATI, PARTITO DALLA POLE, DOMINA E TRIONFA DAVANTI AD ACOSTA – BAGNAIA È TERZO DOPO UNA RIMONTA, MA SCIVOLA A -21 DAL LEADER DELLA CLASSIFICA – OTTIMA GARA PER FRANCO MORBIDELLI E MARCO BEZZECCHI, CHE HANNO CHIUSO DIETRO A PECCO... – VIDEO\n",
      "   Source: Dagospia.com\n",
      "   URL: https://www.dagospia.com/rubrica-30/sport/jorge-martin-saluta-se-ne-va-ndash-gp-dell-rsquo-indonesia-409646.htm\n",
      "--------------------------------------------------\n",
      "5. Title: Bagaimana penggunaan bahasa slang di TikTok mempengaruhi keberagaman bahasa di kalangan remaja\n",
      "   Source: Ablogtoread.com\n",
      "   URL: https://ablogtoread.com/bagaimana-penggunaan-bahasa-slang-di-tiktok-mempengaruhi-keberagaman-bahasa-di-kalangan-remaja/\n",
      "--------------------------------------------------\n"
     ]
    }
   ],
   "source": [
    "import requests\n",
    "\n",
    "def get_news(api_key, query, language='en', page_size=5):\n",
    "    # URL endpoint dari NewsAPI\n",
    "    url = 'https://newsapi.org/v2/everything'\n",
    "\n",
    "    # Parameter untuk API\n",
    "    params = {\n",
    "        'q': query,            # Kata kunci untuk pencarian berita\n",
    "        'language': language,  # Bahasa berita\n",
    "        'pageSize': page_size, # Jumlah berita yang ingin diambil\n",
    "        'apiKey': api_key      # API key dari NewsAPI\n",
    "    }\n",
    "\n",
    "    # Melakukan request ke API\n",
    "    response = requests.get(url, params=params)\n",
    "\n",
    "    # Mengecek apakah request berhasil\n",
    "    if response.status_code == 200:\n",
    "        # Parsing hasil request menjadi format JSON\n",
    "        data = response.json()\n",
    "        articles = data.get('articles', [])\n",
    "\n",
    "        # Menampilkan hasil berita\n",
    "        for i, article in enumerate(articles, 1):\n",
    "            print(f\"{i}. Title: {article['title']}\")\n",
    "            print(f\"   Source: {article['source']['name']}\")\n",
    "            print(f\"   URL: {article['url']}\")\n",
    "            print('-' * 50)\n",
    "    else:\n",
    "        print(f\"Error: {response.status_code}, {response.text}\")\n",
    "\n",
    "if __name__ == \"__main__\":\n",
    "    api_key = 'e181eab997f643bfaa76bff529e25918'  # Ganti dengan API key \n",
    "    query = 'Indonesia'            # Kata kunci untuk pencarian berita\n",
    "    language = 'id'                # Bahasa Indonesia\n",
    "    get_news(api_key, query, language)"
   ]
  },
  {
   "cell_type": "code",
   "execution_count": null,
   "id": "7f0daf5c-3cc6-4cc2-8bcb-0e6b0f3bb7ce",
   "metadata": {},
   "outputs": [],
   "source": []
  }
 ],
 "metadata": {
  "kernelspec": {
   "display_name": "Python 3 (ipykernel)",
   "language": "python",
   "name": "python3"
  },
  "language_info": {
   "codemirror_mode": {
    "name": "ipython",
    "version": 3
   },
   "file_extension": ".py",
   "mimetype": "text/x-python",
   "name": "python",
   "nbconvert_exporter": "python",
   "pygments_lexer": "ipython3",
   "version": "3.12.4"
  }
 },
 "nbformat": 4,
 "nbformat_minor": 5
}
